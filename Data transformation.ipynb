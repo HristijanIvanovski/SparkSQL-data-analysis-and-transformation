{
 "cells": [
  {
   "cell_type": "markdown",
   "metadata": {
    "application/vnd.databricks.v1+cell": {
     "cellMetadata": {
      "byteLimit": 2048000,
      "rowLimit": 10000
     },
     "inputWidgets": {},
     "nuid": "724897aa-fd29-4924-928a-4560a17dd86c",
     "showTitle": false,
     "title": ""
    }
   },
   "source": [
    "#### Changing Data Types\n",
    "* data types in spark: https://spark.apache.org/docs/latest/sql-ref-datatypes.html\n",
    "* cast: https://spark.apache.org/docs/latest/api/python/reference/pyspark.sql/api/pyspark.sql.Column.cast.html?highlight=cast#pyspark.sql.Column.cast"
   ]
  },
  {
   "cell_type": "code",
   "execution_count": 0,
   "metadata": {
    "application/vnd.databricks.v1+cell": {
     "cellMetadata": {
      "byteLimit": 2048000,
      "rowLimit": 10000
     },
     "inputWidgets": {},
     "nuid": "e4e39319-73d3-4fae-bc3a-a2430e46ab95",
     "showTitle": false,
     "title": ""
    }
   },
   "outputs": [
    {
     "output_type": "display_data",
     "data": {
      "text/html": [
       "<style scoped>\n",
       "  .ansiout {\n",
       "    display: block;\n",
       "    unicode-bidi: embed;\n",
       "    white-space: pre-wrap;\n",
       "    word-wrap: break-word;\n",
       "    word-break: break-all;\n",
       "    font-family: \"Source Code Pro\", \"Menlo\", monospace;;\n",
       "    font-size: 13px;\n",
       "    color: #555;\n",
       "    margin-left: 4px;\n",
       "    line-height: 19px;\n",
       "  }\n",
       "</style>\n",
       "<div class=\"ansiout\"></div>"
      ]
     },
     "metadata": {
      "application/vnd.databricks.v1+output": {
       "addedWidgets": {},
       "arguments": {},
       "data": "<div class=\"ansiout\"></div>",
       "datasetInfos": [],
       "metadata": {},
       "removedWidgets": [],
       "type": "html"
      }
     },
     "output_type": "display_data"
    }
   ],
   "source": [
    "# Reading in the countries.csv file and specifying the schema\n",
    "countries_path = 'dbfs:/FileStore/read_write_data/countries.csv'\n",
    " \n",
    "from pyspark.sql.types import IntegerType, StringType, DoubleType, StructField, StructType\n",
    "countries_schema = StructType([\n",
    "                    StructField(\"COUNTRY_ID\", IntegerType(), False),\n",
    "                    StructField(\"NAME\", StringType(), False),\n",
    "                    StructField(\"NATIONALITY\", StringType(), False),\n",
    "                    StructField(\"COUNTRY_CODE\", StringType(), False),\n",
    "                    StructField(\"ISO_ALPHA2\", StringType(), False),\n",
    "                    StructField(\"CAPITAL\", StringType(), False),\n",
    "                    StructField(\"POPULATION\", DoubleType(), False),\n",
    "                    StructField(\"AREA_KM2\", IntegerType(), False),\n",
    "                    StructField(\"REGION_ID\", IntegerType(), True),\n",
    "                    StructField(\"SUB_REGION_ID\", IntegerType(), True),\n",
    "                    StructField(\"INTERMEDIATE_REGION_ID\", IntegerType(), True),\n",
    "                    StructField(\"ORGANIZATION_REGION_ID\", IntegerType(), True)\n",
    "                    ]\n",
    "                    )\n",
    " \n",
    "countries=spark.read.csv(path=countries_path, header=True, schema=countries_schema)"
   ]
  },
  {
   "cell_type": "code",
   "execution_count": 0,
   "metadata": {
    "application/vnd.databricks.v1+cell": {
     "cellMetadata": {
      "byteLimit": 2048000,
      "rowLimit": 10000
     },
     "inputWidgets": {},
     "nuid": "253f57ec-3ece-4e1f-8538-3cd5debf9cf1",
     "showTitle": false,
     "title": ""
    }
   },
   "outputs": [
    {
     "output_type": "display_data",
     "data": {
      "text/html": [
       "<style scoped>\n",
       "  .ansiout {\n",
       "    display: block;\n",
       "    unicode-bidi: embed;\n",
       "    white-space: pre-wrap;\n",
       "    word-wrap: break-word;\n",
       "    word-break: break-all;\n",
       "    font-family: \"Source Code Pro\", \"Menlo\", monospace;;\n",
       "    font-size: 13px;\n",
       "    color: #555;\n",
       "    margin-left: 4px;\n",
       "    line-height: 19px;\n",
       "  }\n",
       "</style>\n",
       "<div class=\"ansiout\"></div>"
      ]
     },
     "metadata": {
      "application/vnd.databricks.v1+output": {
       "addedWidgets": {},
       "arguments": {},
       "data": "<div class=\"ansiout\"></div>",
       "datasetInfos": [],
       "metadata": {},
       "removedWidgets": [],
       "type": "html"
      }
     },
     "output_type": "display_data"
    }
   ],
   "source": [
    "#to import all functions\n",
    "from pyspark.sql.functions import *"
   ]
  },
  {
   "cell_type": "code",
   "execution_count": 0,
   "metadata": {
    "application/vnd.databricks.v1+cell": {
     "cellMetadata": {
      "byteLimit": 2048000,
      "rowLimit": 10000
     },
     "inputWidgets": {},
     "nuid": "befc98d0-c25d-4fcf-b96e-a564bf8a129c",
     "showTitle": false,
     "title": ""
    }
   },
   "outputs": [
    {
     "output_type": "display_data",
     "data": {
      "text/html": [
       "<style scoped>\n",
       "  .ansiout {\n",
       "    display: block;\n",
       "    unicode-bidi: embed;\n",
       "    white-space: pre-wrap;\n",
       "    word-wrap: break-word;\n",
       "    word-break: break-all;\n",
       "    font-family: \"Source Code Pro\", \"Menlo\", monospace;;\n",
       "    font-size: 13px;\n",
       "    color: #555;\n",
       "    margin-left: 4px;\n",
       "    line-height: 19px;\n",
       "  }\n",
       "</style>\n",
       "<div class=\"ansiout\">Out[2]: [(&#39;COUNTRY_ID&#39;, &#39;int&#39;),\n",
       " (&#39;NAME&#39;, &#39;string&#39;),\n",
       " (&#39;NATIONALITY&#39;, &#39;string&#39;),\n",
       " (&#39;COUNTRY_CODE&#39;, &#39;string&#39;),\n",
       " (&#39;ISO_ALPHA2&#39;, &#39;string&#39;),\n",
       " (&#39;CAPITAL&#39;, &#39;string&#39;),\n",
       " (&#39;POPULATION&#39;, &#39;double&#39;),\n",
       " (&#39;AREA_KM2&#39;, &#39;int&#39;),\n",
       " (&#39;REGION_ID&#39;, &#39;int&#39;),\n",
       " (&#39;SUB_REGION_ID&#39;, &#39;int&#39;),\n",
       " (&#39;INTERMEDIATE_REGION_ID&#39;, &#39;int&#39;),\n",
       " (&#39;ORGANIZATION_REGION_ID&#39;, &#39;int&#39;)]</div>"
      ]
     },
     "metadata": {
      "application/vnd.databricks.v1+output": {
       "addedWidgets": {},
       "arguments": {},
       "data": "<div class=\"ansiout\">Out[2]: [(&#39;COUNTRY_ID&#39;, &#39;int&#39;),\n (&#39;NAME&#39;, &#39;string&#39;),\n (&#39;NATIONALITY&#39;, &#39;string&#39;),\n (&#39;COUNTRY_CODE&#39;, &#39;string&#39;),\n (&#39;ISO_ALPHA2&#39;, &#39;string&#39;),\n (&#39;CAPITAL&#39;, &#39;string&#39;),\n (&#39;POPULATION&#39;, &#39;double&#39;),\n (&#39;AREA_KM2&#39;, &#39;int&#39;),\n (&#39;REGION_ID&#39;, &#39;int&#39;),\n (&#39;SUB_REGION_ID&#39;, &#39;int&#39;),\n (&#39;INTERMEDIATE_REGION_ID&#39;, &#39;int&#39;),\n (&#39;ORGANIZATION_REGION_ID&#39;, &#39;int&#39;)]</div>",
       "datasetInfos": [],
       "metadata": {},
       "removedWidgets": [],
       "type": "html"
      }
     },
     "output_type": "display_data"
    }
   ],
   "source": [
    "# using .dtypes to view data types\n",
    "countries.dtypes"
   ]
  },
  {
   "cell_type": "code",
   "execution_count": 0,
   "metadata": {
    "application/vnd.databricks.v1+cell": {
     "cellMetadata": {
      "byteLimit": 2048000,
      "rowLimit": 10000
     },
     "inputWidgets": {},
     "nuid": "6db357b9-6a77-4ad5-ae32-a7f820777763",
     "showTitle": false,
     "title": ""
    }
   },
   "outputs": [
    {
     "output_type": "display_data",
     "data": {
      "text/html": [
       "<style scoped>\n",
       "  .ansiout {\n",
       "    display: block;\n",
       "    unicode-bidi: embed;\n",
       "    white-space: pre-wrap;\n",
       "    word-wrap: break-word;\n",
       "    word-break: break-all;\n",
       "    font-family: \"Source Code Pro\", \"Menlo\", monospace;;\n",
       "    font-size: 13px;\n",
       "    color: #555;\n",
       "    margin-left: 4px;\n",
       "    line-height: 19px;\n",
       "  }\n",
       "</style>\n",
       "<div class=\"ansiout\"></div>"
      ]
     },
     "metadata": {
      "application/vnd.databricks.v1+output": {
       "addedWidgets": {},
       "arguments": {},
       "data": "<div class=\"ansiout\"></div>",
       "datasetInfos": [],
       "metadata": {},
       "removedWidgets": [],
       "type": "html"
      }
     },
     "output_type": "display_data"
    }
   ],
   "source": [
    "# Reading the countries file into a new variable without specifying the schema \n",
    "countries_dt = spark.read.csv(path=countries_path, header=True)"
   ]
  },
  {
   "cell_type": "code",
   "execution_count": 0,
   "metadata": {
    "application/vnd.databricks.v1+cell": {
     "cellMetadata": {
      "byteLimit": 2048000,
      "rowLimit": 10000
     },
     "inputWidgets": {},
     "nuid": "a7f27bd7-a5b6-483c-9714-303575fa8f70",
     "showTitle": false,
     "title": ""
    }
   },
   "outputs": [
    {
     "output_type": "display_data",
     "data": {
      "text/html": [
       "<style scoped>\n",
       "  .ansiout {\n",
       "    display: block;\n",
       "    unicode-bidi: embed;\n",
       "    white-space: pre-wrap;\n",
       "    word-wrap: break-word;\n",
       "    word-break: break-all;\n",
       "    font-family: \"Source Code Pro\", \"Menlo\", monospace;;\n",
       "    font-size: 13px;\n",
       "    color: #555;\n",
       "    margin-left: 4px;\n",
       "    line-height: 19px;\n",
       "  }\n",
       "</style>\n",
       "<div class=\"ansiout\">Out[4]: [(&#39;COUNTRY_ID&#39;, &#39;string&#39;),\n",
       " (&#39;NAME&#39;, &#39;string&#39;),\n",
       " (&#39;NATIONALITY&#39;, &#39;string&#39;),\n",
       " (&#39;COUNTRY_CODE&#39;, &#39;string&#39;),\n",
       " (&#39;ISO_ALPHA2&#39;, &#39;string&#39;),\n",
       " (&#39;CAPITAL&#39;, &#39;string&#39;),\n",
       " (&#39;POPULATION&#39;, &#39;string&#39;),\n",
       " (&#39;AREA_KM2&#39;, &#39;string&#39;),\n",
       " (&#39;REGION_ID&#39;, &#39;string&#39;),\n",
       " (&#39;SUB_REGION_ID&#39;, &#39;string&#39;),\n",
       " (&#39;INTERMEDIATE_REGION_ID&#39;, &#39;string&#39;),\n",
       " (&#39;ORGANIZATION_REGION_ID&#39;, &#39;string&#39;)]</div>"
      ]
     },
     "metadata": {
      "application/vnd.databricks.v1+output": {
       "addedWidgets": {},
       "arguments": {},
       "data": "<div class=\"ansiout\">Out[4]: [(&#39;COUNTRY_ID&#39;, &#39;string&#39;),\n (&#39;NAME&#39;, &#39;string&#39;),\n (&#39;NATIONALITY&#39;, &#39;string&#39;),\n (&#39;COUNTRY_CODE&#39;, &#39;string&#39;),\n (&#39;ISO_ALPHA2&#39;, &#39;string&#39;),\n (&#39;CAPITAL&#39;, &#39;string&#39;),\n (&#39;POPULATION&#39;, &#39;string&#39;),\n (&#39;AREA_KM2&#39;, &#39;string&#39;),\n (&#39;REGION_ID&#39;, &#39;string&#39;),\n (&#39;SUB_REGION_ID&#39;, &#39;string&#39;),\n (&#39;INTERMEDIATE_REGION_ID&#39;, &#39;string&#39;),\n (&#39;ORGANIZATION_REGION_ID&#39;, &#39;string&#39;)]</div>",
       "datasetInfos": [],
       "metadata": {},
       "removedWidgets": [],
       "type": "html"
      }
     },
     "output_type": "display_data"
    }
   ],
   "source": [
    "# All data types are all string\n",
    "countries_dt.dtypes"
   ]
  },
  {
   "cell_type": "code",
   "execution_count": 0,
   "metadata": {
    "application/vnd.databricks.v1+cell": {
     "cellMetadata": {
      "byteLimit": 2048000,
      "rowLimit": 10000
     },
     "inputWidgets": {},
     "nuid": "2ddc9000-be13-45a4-a70a-4f9b33f2738c",
     "showTitle": false,
     "title": ""
    }
   },
   "outputs": [
    {
     "output_type": "display_data",
     "data": {
      "text/html": [
       "<style scoped>\n",
       "  .ansiout {\n",
       "    display: block;\n",
       "    unicode-bidi: embed;\n",
       "    white-space: pre-wrap;\n",
       "    word-wrap: break-word;\n",
       "    word-break: break-all;\n",
       "    font-family: \"Source Code Pro\", \"Menlo\", monospace;;\n",
       "    font-size: 13px;\n",
       "    color: #555;\n",
       "    margin-left: 4px;\n",
       "    line-height: 19px;\n",
       "  }\n",
       "</style>\n",
       "<div class=\"ansiout\">Out[5]: [(&#39;population&#39;, &#39;int&#39;)]</div>"
      ]
     },
     "metadata": {
      "application/vnd.databricks.v1+output": {
       "addedWidgets": {},
       "arguments": {},
       "data": "<div class=\"ansiout\">Out[5]: [(&#39;population&#39;, &#39;int&#39;)]</div>",
       "datasetInfos": [],
       "metadata": {},
       "removedWidgets": [],
       "type": "html"
      }
     },
     "output_type": "display_data"
    }
   ],
   "source": [
    "# Using the cast method to cast the population column as IntegerType(), IntegerType() has already been imported in the first cell when creating the schema\n",
    "countries_dt.select(countries_dt['population'].cast(IntegerType())).dtypes"
   ]
  },
  {
   "cell_type": "code",
   "execution_count": 0,
   "metadata": {
    "application/vnd.databricks.v1+cell": {
     "cellMetadata": {
      "byteLimit": 2048000,
      "rowLimit": 10000
     },
     "inputWidgets": {},
     "nuid": "ad3838fd-7728-477f-896a-edd37eacde6f",
     "showTitle": false,
     "title": ""
    }
   },
   "outputs": [
    {
     "output_type": "display_data",
     "data": {
      "text/html": [
       "<style scoped>\n",
       "  .ansiout {\n",
       "    display: block;\n",
       "    unicode-bidi: embed;\n",
       "    white-space: pre-wrap;\n",
       "    word-wrap: break-word;\n",
       "    word-break: break-all;\n",
       "    font-family: \"Source Code Pro\", \"Menlo\", monospace;;\n",
       "    font-size: 13px;\n",
       "    color: #555;\n",
       "    margin-left: 4px;\n",
       "    line-height: 19px;\n",
       "  }\n",
       "</style>\n",
       "<div class=\"ansiout\">Out[6]: [(&#39;population&#39;, &#39;string&#39;)]</div>"
      ]
     },
     "metadata": {
      "application/vnd.databricks.v1+output": {
       "addedWidgets": {},
       "arguments": {},
       "data": "<div class=\"ansiout\">Out[6]: [(&#39;population&#39;, &#39;string&#39;)]</div>",
       "datasetInfos": [],
       "metadata": {},
       "removedWidgets": [],
       "type": "html"
      }
     },
     "output_type": "display_data"
    }
   ],
   "source": [
    "# Using the cast method to cast the population column as StringType(), StringType() has already been imported in the first cell when creating the schema\n",
    "countries.select(countries['population'].cast(StringType())).dtypes"
   ]
  },
  {
   "cell_type": "markdown",
   "metadata": {
    "application/vnd.databricks.v1+cell": {
     "cellMetadata": {
      "byteLimit": 2048000,
      "rowLimit": 10000
     },
     "inputWidgets": {},
     "nuid": "b6d11e16-dfb5-4684-9ce5-e84d19cdb129",
     "showTitle": false,
     "title": ""
    }
   },
   "source": [
    "#### Math Functions\n",
    "* Math Functions: https://spark.apache.org/docs/latest/api/python/reference/pyspark.sql/functions.html#math-functions"
   ]
  },
  {
   "cell_type": "code",
   "execution_count": 0,
   "metadata": {
    "application/vnd.databricks.v1+cell": {
     "cellMetadata": {
      "byteLimit": 2048000,
      "rowLimit": 10000
     },
     "inputWidgets": {},
     "nuid": "a7c7a228-9894-47f3-8629-2f8de3d18b76",
     "showTitle": false,
     "title": ""
    }
   },
   "outputs": [
    {
     "output_type": "display_data",
     "data": {
      "text/html": [
       "<style scoped>\n",
       "  .table-result-container {\n",
       "    max-height: 300px;\n",
       "    overflow: auto;\n",
       "  }\n",
       "  table, th, td {\n",
       "    border: 1px solid black;\n",
       "    border-collapse: collapse;\n",
       "  }\n",
       "  th, td {\n",
       "    padding: 5px;\n",
       "  }\n",
       "  th {\n",
       "    text-align: left;\n",
       "  }\n",
       "</style><div class='table-result-container'><table class='table-result'><thead style='background-color: white'><tr><th>population_m</th></tr></thead><tbody><tr><td>38.041754</td></tr><tr><td>2.880917</td></tr><tr><td>43.053054</td></tr><tr><td>0.055312</td></tr><tr><td>0.077142</td></tr></tbody></table></div>"
      ]
     },
     "metadata": {
      "application/vnd.databricks.v1+output": {
       "addedWidgets": {},
       "aggData": [],
       "aggError": "",
       "aggOverflow": false,
       "aggSchema": [],
       "aggSeriesLimitReached": false,
       "aggType": "",
       "arguments": {},
       "columnCustomDisplayInfos": {},
       "data": [
        [
         38.041754
        ],
        [
         2.880917
        ],
        [
         43.053054
        ],
        [
         0.055312
        ],
        [
         0.077142
        ]
       ],
       "datasetInfos": [],
       "dbfsResultPath": null,
       "isJsonSchema": true,
       "metadata": {},
       "overflow": false,
       "plotOptions": {
        "customPlotOptions": {},
        "displayType": "table",
        "pivotAggregation": null,
        "pivotColumns": null,
        "xColumns": null,
        "yColumns": null
       },
       "removedWidgets": [],
       "schema": [
        {
         "metadata": "{}",
         "name": "population_m",
         "type": "\"double\""
        }
       ],
       "type": "table"
      }
     },
     "output_type": "display_data"
    },
    {
     "output_type": "display_data",
     "data": {
      "text/html": [
       "<style scoped>\n",
       "  .table-result-container {\n",
       "    max-height: 300px;\n",
       "    overflow: auto;\n",
       "  }\n",
       "  table, th, td {\n",
       "    border: 1px solid black;\n",
       "    border-collapse: collapse;\n",
       "  }\n",
       "  th, td {\n",
       "    padding: 5px;\n",
       "  }\n",
       "  th {\n",
       "    text-align: left;\n",
       "  }\n",
       "</style><div class='table-result-container'><table class='table-result'><thead style='background-color: white'><tr><th>population_m</th></tr></thead><tbody><tr><td>38.04</td></tr><tr><td>2.88</td></tr><tr><td>43.05</td></tr><tr><td>0.06</td></tr><tr><td>0.08</td></tr></tbody></table></div>"
      ]
     },
     "metadata": {
      "application/vnd.databricks.v1+output": {
       "addedWidgets": {},
       "aggData": [],
       "aggError": "",
       "aggOverflow": false,
       "aggSchema": [],
       "aggSeriesLimitReached": false,
       "aggType": "",
       "arguments": {},
       "columnCustomDisplayInfos": {},
       "data": [
        [
         38.04
        ],
        [
         2.88
        ],
        [
         43.05
        ],
        [
         0.06
        ],
        [
         0.08
        ]
       ],
       "datasetInfos": [],
       "dbfsResultPath": null,
       "isJsonSchema": true,
       "metadata": {},
       "overflow": false,
       "plotOptions": {
        "customPlotOptions": {},
        "displayType": "table",
        "pivotAggregation": null,
        "pivotColumns": null,
        "xColumns": null,
        "yColumns": null
       },
       "removedWidgets": [],
       "schema": [
        {
         "metadata": "{}",
         "name": "population_m",
         "type": "\"double\""
        }
       ],
       "type": "table"
      }
     },
     "output_type": "display_data"
    }
   ],
   "source": [
    "# Simple arithmetic to return the population in milions\n",
    "countries.select(countries['population']/1000000).withColumnRenamed('(population / 1000000)','population_m').limit(5).display()\n",
    "\n",
    "# Adding the column to a variable\n",
    "countries_2 = countries.select(countries['population']/1000000).withColumnRenamed('(population / 1000000)','population_m')\n",
    "\n",
    "# Using the round function to round to 2 decimal places\n",
    "from pyspark.sql.functions import round\n",
    "countries_2.select(round(countries_2['population_m'],2)).withColumnRenamed('round(population_m, 2)', 'population_m').limit(5).display()"
   ]
  },
  {
   "cell_type": "code",
   "execution_count": 0,
   "metadata": {
    "application/vnd.databricks.v1+cell": {
     "cellMetadata": {
      "byteLimit": 2048000,
      "rowLimit": 10000
     },
     "inputWidgets": {},
     "nuid": "6d260a14-9d89-4bae-9c87-4bad14f59f0e",
     "showTitle": false,
     "title": ""
    }
   },
   "outputs": [
    {
     "output_type": "display_data",
     "data": {
      "text/html": [
       "<style scoped>\n",
       "  .table-result-container {\n",
       "    max-height: 300px;\n",
       "    overflow: auto;\n",
       "  }\n",
       "  table, th, td {\n",
       "    border: 1px solid black;\n",
       "    border-collapse: collapse;\n",
       "  }\n",
       "  th, td {\n",
       "    padding: 5px;\n",
       "  }\n",
       "  th {\n",
       "    text-align: left;\n",
       "  }\n",
       "</style><div class='table-result-container'><table class='table-result'><thead style='background-color: white'><tr><th>COUNTRY_ID</th><th>NAME</th><th>NATIONALITY</th><th>COUNTRY_CODE</th><th>ISO_ALPHA2</th><th>CAPITAL</th><th>POPULATION</th><th>AREA_KM2</th><th>REGION_ID</th><th>SUB_REGION_ID</th><th>INTERMEDIATE_REGION_ID</th><th>ORGANIZATION_REGION_ID</th><th>population_m_r1</th></tr></thead><tbody><tr><td>1</td><td>Afghanistan</td><td>Afghan</td><td>AFG</td><td>AF</td><td>Kabul</td><td>3.8041754E7</td><td>652230</td><td>30</td><td>30</td><td>null</td><td>30</td><td>38.0</td></tr><tr><td>2</td><td>Albania</td><td>Albanian</td><td>ALB</td><td>AL</td><td>Tirana</td><td>2880917.0</td><td>28748</td><td>20</td><td>70</td><td>null</td><td>20</td><td>2.9</td></tr><tr><td>3</td><td>Algeria</td><td>Algerian</td><td>DZA</td><td>DZ</td><td>Algiers</td><td>4.3053054E7</td><td>2381741</td><td>50</td><td>40</td><td>null</td><td>20</td><td>43.1</td></tr><tr><td>4</td><td>American Samoa</td><td>American Samoan</td><td>ASM</td><td>AS</td><td>Pago Pago</td><td>55312.0</td><td>199</td><td>40</td><td>20</td><td>null</td><td>30</td><td>0.1</td></tr><tr><td>5</td><td>Andorra</td><td>Andorran</td><td>AND</td><td>AD</td><td>Andorra la Vella</td><td>77142.0</td><td>468</td><td>20</td><td>70</td><td>null</td><td>20</td><td>0.1</td></tr></tbody></table></div>"
      ]
     },
     "metadata": {
      "application/vnd.databricks.v1+output": {
       "addedWidgets": {},
       "aggData": [],
       "aggError": "",
       "aggOverflow": false,
       "aggSchema": [],
       "aggSeriesLimitReached": false,
       "aggType": "",
       "arguments": {},
       "columnCustomDisplayInfos": {},
       "data": [
        [
         1,
         "Afghanistan",
         "Afghan",
         "AFG",
         "AF",
         "Kabul",
         3.8041754E7,
         652230,
         30,
         30,
         null,
         30,
         38.0
        ],
        [
         2,
         "Albania",
         "Albanian",
         "ALB",
         "AL",
         "Tirana",
         2880917.0,
         28748,
         20,
         70,
         null,
         20,
         2.9
        ],
        [
         3,
         "Algeria",
         "Algerian",
         "DZA",
         "DZ",
         "Algiers",
         4.3053054E7,
         2381741,
         50,
         40,
         null,
         20,
         43.1
        ],
        [
         4,
         "American Samoa",
         "American Samoan",
         "ASM",
         "AS",
         "Pago Pago",
         55312.0,
         199,
         40,
         20,
         null,
         30,
         0.1
        ],
        [
         5,
         "Andorra",
         "Andorran",
         "AND",
         "AD",
         "Andorra la Vella",
         77142.0,
         468,
         20,
         70,
         null,
         20,
         0.1
        ]
       ],
       "datasetInfos": [],
       "dbfsResultPath": null,
       "isJsonSchema": true,
       "metadata": {},
       "overflow": false,
       "plotOptions": {
        "customPlotOptions": {},
        "displayType": "table",
        "pivotAggregation": null,
        "pivotColumns": null,
        "xColumns": null,
        "yColumns": null
       },
       "removedWidgets": [],
       "schema": [
        {
         "metadata": "{}",
         "name": "COUNTRY_ID",
         "type": "\"integer\""
        },
        {
         "metadata": "{}",
         "name": "NAME",
         "type": "\"string\""
        },
        {
         "metadata": "{}",
         "name": "NATIONALITY",
         "type": "\"string\""
        },
        {
         "metadata": "{}",
         "name": "COUNTRY_CODE",
         "type": "\"string\""
        },
        {
         "metadata": "{}",
         "name": "ISO_ALPHA2",
         "type": "\"string\""
        },
        {
         "metadata": "{}",
         "name": "CAPITAL",
         "type": "\"string\""
        },
        {
         "metadata": "{}",
         "name": "POPULATION",
         "type": "\"double\""
        },
        {
         "metadata": "{}",
         "name": "AREA_KM2",
         "type": "\"integer\""
        },
        {
         "metadata": "{}",
         "name": "REGION_ID",
         "type": "\"integer\""
        },
        {
         "metadata": "{}",
         "name": "SUB_REGION_ID",
         "type": "\"integer\""
        },
        {
         "metadata": "{}",
         "name": "INTERMEDIATE_REGION_ID",
         "type": "\"integer\""
        },
        {
         "metadata": "{}",
         "name": "ORGANIZATION_REGION_ID",
         "type": "\"integer\""
        },
        {
         "metadata": "{}",
         "name": "population_m_r1",
         "type": "\"double\""
        }
       ],
       "type": "table"
      }
     },
     "output_type": "display_data"
    }
   ],
   "source": [
    "# create new column population_m_r1 rounded to 1 decimal in countries df\n",
    "countries.withColumn('population_m_r1', round(countries['population']/1000000, 1)).limit(5).display()"
   ]
  },
  {
   "cell_type": "markdown",
   "metadata": {
    "application/vnd.databricks.v1+cell": {
     "cellMetadata": {
      "byteLimit": 2048000,
      "rowLimit": 10000
     },
     "inputWidgets": {},
     "nuid": "075ed2fe-eac6-4a99-ab88-b8af03c1dabc",
     "showTitle": false,
     "title": ""
    }
   },
   "source": [
    "####A bit of sorting"
   ]
  },
  {
   "cell_type": "code",
   "execution_count": 0,
   "metadata": {
    "application/vnd.databricks.v1+cell": {
     "cellMetadata": {
      "byteLimit": 2048000,
      "rowLimit": 10000
     },
     "inputWidgets": {},
     "nuid": "7961dfa8-d008-4182-90ec-ad3ffccf3a96",
     "showTitle": false,
     "title": ""
    }
   },
   "outputs": [
    {
     "output_type": "display_data",
     "data": {
      "text/html": [
       "<style scoped>\n",
       "  .ansiout {\n",
       "    display: block;\n",
       "    unicode-bidi: embed;\n",
       "    white-space: pre-wrap;\n",
       "    word-wrap: break-word;\n",
       "    word-break: break-all;\n",
       "    font-family: \"Source Code Pro\", \"Menlo\", monospace;;\n",
       "    font-size: 13px;\n",
       "    color: #555;\n",
       "    margin-left: 4px;\n",
       "    line-height: 19px;\n",
       "  }\n",
       "</style>\n",
       "<div class=\"ansiout\"></div>"
      ]
     },
     "metadata": {
      "application/vnd.databricks.v1+output": {
       "addedWidgets": {},
       "arguments": {},
       "data": "<div class=\"ansiout\"></div>",
       "datasetInfos": [],
       "metadata": {},
       "removedWidgets": [],
       "type": "html"
      }
     },
     "output_type": "display_data"
    }
   ],
   "source": [
    "#importing ascending and descending\n",
    "from pyspark.sql.functions import asc, desc"
   ]
  },
  {
   "cell_type": "code",
   "execution_count": 0,
   "metadata": {
    "application/vnd.databricks.v1+cell": {
     "cellMetadata": {
      "byteLimit": 2048000,
      "rowLimit": 10000
     },
     "inputWidgets": {},
     "nuid": "00a71cee-854e-4445-965c-a49f7e3a619c",
     "showTitle": false,
     "title": ""
    }
   },
   "outputs": [
    {
     "output_type": "display_data",
     "data": {
      "text/html": [
       "<style scoped>\n",
       "  .table-result-container {\n",
       "    max-height: 300px;\n",
       "    overflow: auto;\n",
       "  }\n",
       "  table, th, td {\n",
       "    border: 1px solid black;\n",
       "    border-collapse: collapse;\n",
       "  }\n",
       "  th, td {\n",
       "    padding: 5px;\n",
       "  }\n",
       "  th {\n",
       "    text-align: left;\n",
       "  }\n",
       "</style><div class='table-result-container'><table class='table-result'><thead style='background-color: white'><tr><th>COUNTRY_ID</th><th>NAME</th><th>NATIONALITY</th><th>COUNTRY_CODE</th><th>ISO_ALPHA2</th><th>CAPITAL</th><th>POPULATION</th><th>AREA_KM2</th><th>REGION_ID</th><th>SUB_REGION_ID</th><th>INTERMEDIATE_REGION_ID</th><th>ORGANIZATION_REGION_ID</th></tr></thead><tbody><tr><td>97</td><td>Heard Island and McDonald Islands</td><td>Heard Island or McDonald Islands</td><td>HMD</td><td>HM</td><td>null</td><td>0.0</td><td>368</td><td>40</td><td>90</td><td>null</td><td>30</td></tr><tr><td>30</td><td>Bouvet Island</td><td>Bouvet Island</td><td>BVT</td><td>BV</td><td>null</td><td>0.0</td><td>49</td><td>10</td><td>10</td><td>40</td><td>40</td></tr><tr><td>206</td><td>South Georgia and the South Sandwich Islands</td><td>South Georgia or South Sandwich Islands</td><td>SGS</td><td>GS</td><td>Grytviken</td><td>30.0</td><td>3903</td><td>10</td><td>10</td><td>40</td><td>40</td></tr><tr><td>175</td><td>Pitcairn</td><td>Pitcairn Island</td><td>PCN</td><td>PN</td><td>Adamstown</td><td>68.0</td><td>43</td><td>40</td><td>20</td><td>null</td><td>30</td></tr><tr><td>79</td><td>French Southern Territories</td><td>French Southern Territories</td><td>ATF</td><td>TF</td><td>Saint Pierre</td><td>150.0</td><td>439780</td><td>50</td><td>160</td><td>50</td><td>20</td></tr></tbody></table></div>"
      ]
     },
     "metadata": {
      "application/vnd.databricks.v1+output": {
       "addedWidgets": {},
       "aggData": [],
       "aggError": "",
       "aggOverflow": false,
       "aggSchema": [],
       "aggSeriesLimitReached": false,
       "aggType": "",
       "arguments": {},
       "columnCustomDisplayInfos": {},
       "data": [
        [
         97,
         "Heard Island and McDonald Islands",
         "Heard Island or McDonald Islands",
         "HMD",
         "HM",
         null,
         0.0,
         368,
         40,
         90,
         null,
         30
        ],
        [
         30,
         "Bouvet Island",
         "Bouvet Island",
         "BVT",
         "BV",
         null,
         0.0,
         49,
         10,
         10,
         40,
         40
        ],
        [
         206,
         "South Georgia and the South Sandwich Islands",
         "South Georgia or South Sandwich Islands",
         "SGS",
         "GS",
         "Grytviken",
         30.0,
         3903,
         10,
         10,
         40,
         40
        ],
        [
         175,
         "Pitcairn",
         "Pitcairn Island",
         "PCN",
         "PN",
         "Adamstown",
         68.0,
         43,
         40,
         20,
         null,
         30
        ],
        [
         79,
         "French Southern Territories",
         "French Southern Territories",
         "ATF",
         "TF",
         "Saint Pierre",
         150.0,
         439780,
         50,
         160,
         50,
         20
        ]
       ],
       "datasetInfos": [],
       "dbfsResultPath": null,
       "isJsonSchema": true,
       "metadata": {},
       "overflow": false,
       "plotOptions": {
        "customPlotOptions": {},
        "displayType": "table",
        "pivotAggregation": null,
        "pivotColumns": null,
        "xColumns": null,
        "yColumns": null
       },
       "removedWidgets": [],
       "schema": [
        {
         "metadata": "{}",
         "name": "COUNTRY_ID",
         "type": "\"integer\""
        },
        {
         "metadata": "{}",
         "name": "NAME",
         "type": "\"string\""
        },
        {
         "metadata": "{}",
         "name": "NATIONALITY",
         "type": "\"string\""
        },
        {
         "metadata": "{}",
         "name": "COUNTRY_CODE",
         "type": "\"string\""
        },
        {
         "metadata": "{}",
         "name": "ISO_ALPHA2",
         "type": "\"string\""
        },
        {
         "metadata": "{}",
         "name": "CAPITAL",
         "type": "\"string\""
        },
        {
         "metadata": "{}",
         "name": "POPULATION",
         "type": "\"double\""
        },
        {
         "metadata": "{}",
         "name": "AREA_KM2",
         "type": "\"integer\""
        },
        {
         "metadata": "{}",
         "name": "REGION_ID",
         "type": "\"integer\""
        },
        {
         "metadata": "{}",
         "name": "SUB_REGION_ID",
         "type": "\"integer\""
        },
        {
         "metadata": "{}",
         "name": "INTERMEDIATE_REGION_ID",
         "type": "\"integer\""
        },
        {
         "metadata": "{}",
         "name": "ORGANIZATION_REGION_ID",
         "type": "\"integer\""
        }
       ],
       "type": "table"
      }
     },
     "output_type": "display_data"
    }
   ],
   "source": [
    "countries.sort(countries['population'].asc()).limit(5).display()"
   ]
  },
  {
   "cell_type": "code",
   "execution_count": 0,
   "metadata": {
    "application/vnd.databricks.v1+cell": {
     "cellMetadata": {
      "byteLimit": 2048000,
      "rowLimit": 10000
     },
     "inputWidgets": {},
     "nuid": "4707b16f-7988-489f-bcd6-7a30a952fd89",
     "showTitle": false,
     "title": ""
    }
   },
   "outputs": [
    {
     "output_type": "display_data",
     "data": {
      "text/html": [
       "<style scoped>\n",
       "  .table-result-container {\n",
       "    max-height: 300px;\n",
       "    overflow: auto;\n",
       "  }\n",
       "  table, th, td {\n",
       "    border: 1px solid black;\n",
       "    border-collapse: collapse;\n",
       "  }\n",
       "  th, td {\n",
       "    padding: 5px;\n",
       "  }\n",
       "  th {\n",
       "    text-align: left;\n",
       "  }\n",
       "</style><div class='table-result-container'><table class='table-result'><thead style='background-color: white'><tr><th>COUNTRY_ID</th><th>NAME</th><th>NATIONALITY</th><th>COUNTRY_CODE</th><th>ISO_ALPHA2</th><th>CAPITAL</th><th>POPULATION</th><th>AREA_KM2</th><th>REGION_ID</th><th>SUB_REGION_ID</th><th>INTERMEDIATE_REGION_ID</th><th>ORGANIZATION_REGION_ID</th></tr></thead><tbody><tr><td>45</td><td>China</td><td>Chinese</td><td>CHN</td><td>CN</td><td>Beijing</td><td>1.433783686E9</td><td>9706961</td><td>30</td><td>60</td><td>null</td><td>30</td></tr><tr><td>103</td><td>India</td><td>Indian</td><td>IND</td><td>IN</td><td>New Delhi</td><td>1.366417754E9</td><td>3287590</td><td>30</td><td>30</td><td>null</td><td>30</td></tr><tr><td>236</td><td>United States of America</td><td>American</td><td>USA</td><td>US</td><td>Washington, D.C.</td><td>3.29064917E8</td><td>9372610</td><td>10</td><td>80</td><td>null</td><td>10</td></tr><tr><td>104</td><td>Indonesia</td><td>Indonesian</td><td>IDN</td><td>ID</td><td>Jakarta</td><td>2.70625568E8</td><td>1904569</td><td>30</td><td>100</td><td>null</td><td>30</td></tr><tr><td>167</td><td>Pakistan</td><td>Pakistani</td><td>PAK</td><td>PK</td><td>Islamabad</td><td>2.16565318E8</td><td>881912</td><td>30</td><td>30</td><td>null</td><td>30</td></tr></tbody></table></div>"
      ]
     },
     "metadata": {
      "application/vnd.databricks.v1+output": {
       "addedWidgets": {},
       "aggData": [],
       "aggError": "",
       "aggOverflow": false,
       "aggSchema": [],
       "aggSeriesLimitReached": false,
       "aggType": "",
       "arguments": {},
       "columnCustomDisplayInfos": {},
       "data": [
        [
         45,
         "China",
         "Chinese",
         "CHN",
         "CN",
         "Beijing",
         1.433783686E9,
         9706961,
         30,
         60,
         null,
         30
        ],
        [
         103,
         "India",
         "Indian",
         "IND",
         "IN",
         "New Delhi",
         1.366417754E9,
         3287590,
         30,
         30,
         null,
         30
        ],
        [
         236,
         "United States of America",
         "American",
         "USA",
         "US",
         "Washington, D.C.",
         3.29064917E8,
         9372610,
         10,
         80,
         null,
         10
        ],
        [
         104,
         "Indonesia",
         "Indonesian",
         "IDN",
         "ID",
         "Jakarta",
         2.70625568E8,
         1904569,
         30,
         100,
         null,
         30
        ],
        [
         167,
         "Pakistan",
         "Pakistani",
         "PAK",
         "PK",
         "Islamabad",
         2.16565318E8,
         881912,
         30,
         30,
         null,
         30
        ]
       ],
       "datasetInfos": [],
       "dbfsResultPath": null,
       "isJsonSchema": true,
       "metadata": {},
       "overflow": false,
       "plotOptions": {
        "customPlotOptions": {},
        "displayType": "table",
        "pivotAggregation": null,
        "pivotColumns": null,
        "xColumns": null,
        "yColumns": null
       },
       "removedWidgets": [],
       "schema": [
        {
         "metadata": "{}",
         "name": "COUNTRY_ID",
         "type": "\"integer\""
        },
        {
         "metadata": "{}",
         "name": "NAME",
         "type": "\"string\""
        },
        {
         "metadata": "{}",
         "name": "NATIONALITY",
         "type": "\"string\""
        },
        {
         "metadata": "{}",
         "name": "COUNTRY_CODE",
         "type": "\"string\""
        },
        {
         "metadata": "{}",
         "name": "ISO_ALPHA2",
         "type": "\"string\""
        },
        {
         "metadata": "{}",
         "name": "CAPITAL",
         "type": "\"string\""
        },
        {
         "metadata": "{}",
         "name": "POPULATION",
         "type": "\"double\""
        },
        {
         "metadata": "{}",
         "name": "AREA_KM2",
         "type": "\"integer\""
        },
        {
         "metadata": "{}",
         "name": "REGION_ID",
         "type": "\"integer\""
        },
        {
         "metadata": "{}",
         "name": "SUB_REGION_ID",
         "type": "\"integer\""
        },
        {
         "metadata": "{}",
         "name": "INTERMEDIATE_REGION_ID",
         "type": "\"integer\""
        },
        {
         "metadata": "{}",
         "name": "ORGANIZATION_REGION_ID",
         "type": "\"integer\""
        }
       ],
       "type": "table"
      }
     },
     "output_type": "display_data"
    }
   ],
   "source": [
    "countries.sort(countries['population'].desc_nulls_last()).limit(5).display()"
   ]
  },
  {
   "cell_type": "markdown",
   "metadata": {
    "application/vnd.databricks.v1+cell": {
     "cellMetadata": {
      "byteLimit": 2048000,
      "rowLimit": 10000
     },
     "inputWidgets": {},
     "nuid": "b5904f81-0124-41e9-99fa-a2b09e948a07",
     "showTitle": false,
     "title": ""
    }
   },
   "source": [
    "#### String Functions\n",
    "* https://spark.apache.org/docs/latest/api/python/reference/pyspark.sql/functions.html#string-functions"
   ]
  },
  {
   "cell_type": "code",
   "execution_count": 0,
   "metadata": {
    "application/vnd.databricks.v1+cell": {
     "cellMetadata": {
      "byteLimit": 2048000,
      "rowLimit": 10000
     },
     "inputWidgets": {},
     "nuid": "4dbdee5b-081c-4385-a434-48cd21486ec7",
     "showTitle": false,
     "title": ""
    }
   },
   "outputs": [
    {
     "output_type": "display_data",
     "data": {
      "text/html": [
       "<style scoped>\n",
       "  .table-result-container {\n",
       "    max-height: 300px;\n",
       "    overflow: auto;\n",
       "  }\n",
       "  table, th, td {\n",
       "    border: 1px solid black;\n",
       "    border-collapse: collapse;\n",
       "  }\n",
       "  th, td {\n",
       "    padding: 5px;\n",
       "  }\n",
       "  th {\n",
       "    text-align: left;\n",
       "  }\n",
       "</style><div class='table-result-container'><table class='table-result'><thead style='background-color: white'><tr><th>Country-country_code</th></tr></thead><tbody><tr><td>Afghanistan-afg</td></tr><tr><td>Albania-alb</td></tr><tr><td>Algeria-dza</td></tr><tr><td>American Samoa-asm</td></tr><tr><td>Andorra-and</td></tr></tbody></table></div>"
      ]
     },
     "metadata": {
      "application/vnd.databricks.v1+output": {
       "addedWidgets": {},
       "aggData": [],
       "aggError": "",
       "aggOverflow": false,
       "aggSchema": [],
       "aggSeriesLimitReached": false,
       "aggType": "",
       "arguments": {},
       "columnCustomDisplayInfos": {},
       "data": [
        [
         "Afghanistan-afg"
        ],
        [
         "Albania-alb"
        ],
        [
         "Algeria-dza"
        ],
        [
         "American Samoa-asm"
        ],
        [
         "Andorra-and"
        ]
       ],
       "datasetInfos": [],
       "dbfsResultPath": null,
       "isJsonSchema": true,
       "metadata": {},
       "overflow": false,
       "plotOptions": {
        "customPlotOptions": {},
        "displayType": "table",
        "pivotAggregation": null,
        "pivotColumns": null,
        "xColumns": null,
        "yColumns": null
       },
       "removedWidgets": [],
       "schema": [
        {
         "metadata": "{}",
         "name": "Country-country_code",
         "type": "\"string\""
        }
       ],
       "type": "table"
      }
     },
     "output_type": "display_data"
    }
   ],
   "source": [
    "# Use concat_ws to concatenate columns\n",
    "countries.select(concat_ws('-', countries['name'], lower(countries['country_code'])).alias('Country-country_code')).limit(5).display()"
   ]
  },
  {
   "cell_type": "markdown",
   "metadata": {
    "application/vnd.databricks.v1+cell": {
     "cellMetadata": {
      "byteLimit": 2048000,
      "rowLimit": 10000
     },
     "inputWidgets": {},
     "nuid": "f46f7176-5bc6-42fa-84ba-0723a626bc96",
     "showTitle": false,
     "title": ""
    }
   },
   "source": [
    "#### Datetime Functions\n",
    "* Datetime Functions: https://spark.apache.org/docs/latest/api/python/reference/pyspark.sql/functions.html#datetime-functions\n",
    "* Datetime Patterns: https://spark.apache.org/docs/latest/sql-ref-datetime-pattern.html"
   ]
  },
  {
   "cell_type": "code",
   "execution_count": 0,
   "metadata": {
    "application/vnd.databricks.v1+cell": {
     "cellMetadata": {
      "byteLimit": 2048000,
      "rowLimit": 10000
     },
     "inputWidgets": {},
     "nuid": "207498f0-565e-484e-8b1c-126229f52403",
     "showTitle": false,
     "title": ""
    }
   },
   "outputs": [
    {
     "output_type": "display_data",
     "data": {
      "text/html": [
       "<style scoped>\n",
       "  .table-result-container {\n",
       "    max-height: 300px;\n",
       "    overflow: auto;\n",
       "  }\n",
       "  table, th, td {\n",
       "    border: 1px solid black;\n",
       "    border-collapse: collapse;\n",
       "  }\n",
       "  th, td {\n",
       "    padding: 5px;\n",
       "  }\n",
       "  th {\n",
       "    text-align: left;\n",
       "  }\n",
       "</style><div class='table-result-container'><table class='table-result'><thead style='background-color: white'><tr><th>COUNTRY_ID</th><th>NAME</th><th>NATIONALITY</th><th>COUNTRY_CODE</th><th>ISO_ALPHA2</th><th>CAPITAL</th><th>POPULATION</th><th>AREA_KM2</th><th>REGION_ID</th><th>SUB_REGION_ID</th><th>INTERMEDIATE_REGION_ID</th><th>ORGANIZATION_REGION_ID</th><th>timestamp</th></tr></thead><tbody><tr><td>1</td><td>Afghanistan</td><td>Afghan</td><td>AFG</td><td>AF</td><td>Kabul</td><td>3.8041754E7</td><td>652230</td><td>30</td><td>30</td><td>null</td><td>30</td><td>2023-05-09T06:07:15.968+0000</td></tr><tr><td>2</td><td>Albania</td><td>Albanian</td><td>ALB</td><td>AL</td><td>Tirana</td><td>2880917.0</td><td>28748</td><td>20</td><td>70</td><td>null</td><td>20</td><td>2023-05-09T06:07:15.968+0000</td></tr><tr><td>3</td><td>Algeria</td><td>Algerian</td><td>DZA</td><td>DZ</td><td>Algiers</td><td>4.3053054E7</td><td>2381741</td><td>50</td><td>40</td><td>null</td><td>20</td><td>2023-05-09T06:07:15.968+0000</td></tr><tr><td>4</td><td>American Samoa</td><td>American Samoan</td><td>ASM</td><td>AS</td><td>Pago Pago</td><td>55312.0</td><td>199</td><td>40</td><td>20</td><td>null</td><td>30</td><td>2023-05-09T06:07:15.968+0000</td></tr><tr><td>5</td><td>Andorra</td><td>Andorran</td><td>AND</td><td>AD</td><td>Andorra la Vella</td><td>77142.0</td><td>468</td><td>20</td><td>70</td><td>null</td><td>20</td><td>2023-05-09T06:07:15.968+0000</td></tr></tbody></table></div>"
      ]
     },
     "metadata": {
      "application/vnd.databricks.v1+output": {
       "addedWidgets": {},
       "aggData": [],
       "aggError": "",
       "aggOverflow": false,
       "aggSchema": [],
       "aggSeriesLimitReached": false,
       "aggType": "",
       "arguments": {},
       "columnCustomDisplayInfos": {},
       "data": [
        [
         1,
         "Afghanistan",
         "Afghan",
         "AFG",
         "AF",
         "Kabul",
         3.8041754E7,
         652230,
         30,
         30,
         null,
         30,
         "2023-05-09T06:07:15.968+0000"
        ],
        [
         2,
         "Albania",
         "Albanian",
         "ALB",
         "AL",
         "Tirana",
         2880917.0,
         28748,
         20,
         70,
         null,
         20,
         "2023-05-09T06:07:15.968+0000"
        ],
        [
         3,
         "Algeria",
         "Algerian",
         "DZA",
         "DZ",
         "Algiers",
         4.3053054E7,
         2381741,
         50,
         40,
         null,
         20,
         "2023-05-09T06:07:15.968+0000"
        ],
        [
         4,
         "American Samoa",
         "American Samoan",
         "ASM",
         "AS",
         "Pago Pago",
         55312.0,
         199,
         40,
         20,
         null,
         30,
         "2023-05-09T06:07:15.968+0000"
        ],
        [
         5,
         "Andorra",
         "Andorran",
         "AND",
         "AD",
         "Andorra la Vella",
         77142.0,
         468,
         20,
         70,
         null,
         20,
         "2023-05-09T06:07:15.968+0000"
        ]
       ],
       "datasetInfos": [],
       "dbfsResultPath": null,
       "isJsonSchema": true,
       "metadata": {},
       "overflow": false,
       "plotOptions": {
        "customPlotOptions": {},
        "displayType": "table",
        "pivotAggregation": null,
        "pivotColumns": null,
        "xColumns": null,
        "yColumns": null
       },
       "removedWidgets": [],
       "schema": [
        {
         "metadata": "{}",
         "name": "COUNTRY_ID",
         "type": "\"integer\""
        },
        {
         "metadata": "{}",
         "name": "NAME",
         "type": "\"string\""
        },
        {
         "metadata": "{}",
         "name": "NATIONALITY",
         "type": "\"string\""
        },
        {
         "metadata": "{}",
         "name": "COUNTRY_CODE",
         "type": "\"string\""
        },
        {
         "metadata": "{}",
         "name": "ISO_ALPHA2",
         "type": "\"string\""
        },
        {
         "metadata": "{}",
         "name": "CAPITAL",
         "type": "\"string\""
        },
        {
         "metadata": "{}",
         "name": "POPULATION",
         "type": "\"double\""
        },
        {
         "metadata": "{}",
         "name": "AREA_KM2",
         "type": "\"integer\""
        },
        {
         "metadata": "{}",
         "name": "REGION_ID",
         "type": "\"integer\""
        },
        {
         "metadata": "{}",
         "name": "SUB_REGION_ID",
         "type": "\"integer\""
        },
        {
         "metadata": "{}",
         "name": "INTERMEDIATE_REGION_ID",
         "type": "\"integer\""
        },
        {
         "metadata": "{}",
         "name": "ORGANIZATION_REGION_ID",
         "type": "\"integer\""
        },
        {
         "metadata": "{}",
         "name": "timestamp",
         "type": "\"timestamp\""
        }
       ],
       "type": "table"
      }
     },
     "output_type": "display_data"
    }
   ],
   "source": [
    "#using current_timestamp and withColumn to add column to df\n",
    "countries = countries.withColumn('timestamp', current_timestamp())\n",
    "countries.limit(5).display()"
   ]
  },
  {
   "cell_type": "code",
   "execution_count": 0,
   "metadata": {
    "application/vnd.databricks.v1+cell": {
     "cellMetadata": {
      "byteLimit": 2048000,
      "rowLimit": 10000
     },
     "inputWidgets": {},
     "nuid": "7535411a-2d9b-4969-bc9a-67ddd79281c9",
     "showTitle": false,
     "title": ""
    }
   },
   "outputs": [
    {
     "output_type": "display_data",
     "data": {
      "text/html": [
       "<style scoped>\n",
       "  .table-result-container {\n",
       "    max-height: 300px;\n",
       "    overflow: auto;\n",
       "  }\n",
       "  table, th, td {\n",
       "    border: 1px solid black;\n",
       "    border-collapse: collapse;\n",
       "  }\n",
       "  th, td {\n",
       "    padding: 5px;\n",
       "  }\n",
       "  th {\n",
       "    text-align: left;\n",
       "  }\n",
       "</style><div class='table-result-container'><table class='table-result'><thead style='background-color: white'><tr><th>year(timestamp)</th></tr></thead><tbody><tr><td>2023</td></tr><tr><td>2023</td></tr><tr><td>2023</td></tr><tr><td>2023</td></tr><tr><td>2023</td></tr></tbody></table></div>"
      ]
     },
     "metadata": {
      "application/vnd.databricks.v1+output": {
       "addedWidgets": {},
       "aggData": [],
       "aggError": "",
       "aggOverflow": false,
       "aggSchema": [],
       "aggSeriesLimitReached": false,
       "aggType": "",
       "arguments": {},
       "columnCustomDisplayInfos": {},
       "data": [
        [
         2023
        ],
        [
         2023
        ],
        [
         2023
        ],
        [
         2023
        ],
        [
         2023
        ]
       ],
       "datasetInfos": [],
       "dbfsResultPath": null,
       "isJsonSchema": true,
       "metadata": {},
       "overflow": false,
       "plotOptions": {
        "customPlotOptions": {},
        "displayType": "table",
        "pivotAggregation": null,
        "pivotColumns": null,
        "xColumns": null,
        "yColumns": null
       },
       "removedWidgets": [],
       "schema": [
        {
         "metadata": "{}",
         "name": "year(timestamp)",
         "type": "\"integer\""
        }
       ],
       "type": "table"
      }
     },
     "output_type": "display_data"
    }
   ],
   "source": [
    "# Use year to extract the year\n",
    "countries.select(year(countries['timestamp'])).limit(5).display()"
   ]
  },
  {
   "cell_type": "code",
   "execution_count": 0,
   "metadata": {
    "application/vnd.databricks.v1+cell": {
     "cellMetadata": {
      "byteLimit": 2048000,
      "rowLimit": 10000
     },
     "inputWidgets": {},
     "nuid": "e7ba831f-c132-4206-b352-18c9d3a606bb",
     "showTitle": false,
     "title": ""
    }
   },
   "outputs": [
    {
     "output_type": "display_data",
     "data": {
      "text/html": [
       "<style scoped>\n",
       "  .table-result-container {\n",
       "    max-height: 300px;\n",
       "    overflow: auto;\n",
       "  }\n",
       "  table, th, td {\n",
       "    border: 1px solid black;\n",
       "    border-collapse: collapse;\n",
       "  }\n",
       "  th, td {\n",
       "    padding: 5px;\n",
       "  }\n",
       "  th {\n",
       "    text-align: left;\n",
       "  }\n",
       "</style><div class='table-result-container'><table class='table-result'><thead style='background-color: white'><tr><th>COUNTRY_ID</th><th>NAME</th><th>NATIONALITY</th><th>COUNTRY_CODE</th><th>ISO_ALPHA2</th><th>CAPITAL</th><th>POPULATION</th><th>AREA_KM2</th><th>REGION_ID</th><th>SUB_REGION_ID</th><th>INTERMEDIATE_REGION_ID</th><th>ORGANIZATION_REGION_ID</th><th>timestamp</th><th>date_lit</th></tr></thead><tbody><tr><td>1</td><td>Afghanistan</td><td>Afghan</td><td>AFG</td><td>AF</td><td>Kabul</td><td>3.8041754E7</td><td>652230</td><td>30</td><td>30</td><td>null</td><td>30</td><td>2023-05-09T06:07:16.694+0000</td><td>08-05-2023</td></tr><tr><td>2</td><td>Albania</td><td>Albanian</td><td>ALB</td><td>AL</td><td>Tirana</td><td>2880917.0</td><td>28748</td><td>20</td><td>70</td><td>null</td><td>20</td><td>2023-05-09T06:07:16.694+0000</td><td>08-05-2023</td></tr><tr><td>3</td><td>Algeria</td><td>Algerian</td><td>DZA</td><td>DZ</td><td>Algiers</td><td>4.3053054E7</td><td>2381741</td><td>50</td><td>40</td><td>null</td><td>20</td><td>2023-05-09T06:07:16.694+0000</td><td>08-05-2023</td></tr><tr><td>4</td><td>American Samoa</td><td>American Samoan</td><td>ASM</td><td>AS</td><td>Pago Pago</td><td>55312.0</td><td>199</td><td>40</td><td>20</td><td>null</td><td>30</td><td>2023-05-09T06:07:16.694+0000</td><td>08-05-2023</td></tr><tr><td>5</td><td>Andorra</td><td>Andorran</td><td>AND</td><td>AD</td><td>Andorra la Vella</td><td>77142.0</td><td>468</td><td>20</td><td>70</td><td>null</td><td>20</td><td>2023-05-09T06:07:16.694+0000</td><td>08-05-2023</td></tr></tbody></table></div>"
      ]
     },
     "metadata": {
      "application/vnd.databricks.v1+output": {
       "addedWidgets": {},
       "aggData": [],
       "aggError": "",
       "aggOverflow": false,
       "aggSchema": [],
       "aggSeriesLimitReached": false,
       "aggType": "",
       "arguments": {},
       "columnCustomDisplayInfos": {},
       "data": [
        [
         1,
         "Afghanistan",
         "Afghan",
         "AFG",
         "AF",
         "Kabul",
         3.8041754E7,
         652230,
         30,
         30,
         null,
         30,
         "2023-05-09T06:07:16.694+0000",
         "08-05-2023"
        ],
        [
         2,
         "Albania",
         "Albanian",
         "ALB",
         "AL",
         "Tirana",
         2880917.0,
         28748,
         20,
         70,
         null,
         20,
         "2023-05-09T06:07:16.694+0000",
         "08-05-2023"
        ],
        [
         3,
         "Algeria",
         "Algerian",
         "DZA",
         "DZ",
         "Algiers",
         4.3053054E7,
         2381741,
         50,
         40,
         null,
         20,
         "2023-05-09T06:07:16.694+0000",
         "08-05-2023"
        ],
        [
         4,
         "American Samoa",
         "American Samoan",
         "ASM",
         "AS",
         "Pago Pago",
         55312.0,
         199,
         40,
         20,
         null,
         30,
         "2023-05-09T06:07:16.694+0000",
         "08-05-2023"
        ],
        [
         5,
         "Andorra",
         "Andorran",
         "AND",
         "AD",
         "Andorra la Vella",
         77142.0,
         468,
         20,
         70,
         null,
         20,
         "2023-05-09T06:07:16.694+0000",
         "08-05-2023"
        ]
       ],
       "datasetInfos": [],
       "dbfsResultPath": null,
       "isJsonSchema": true,
       "metadata": {},
       "overflow": false,
       "plotOptions": {
        "customPlotOptions": {},
        "displayType": "table",
        "pivotAggregation": null,
        "pivotColumns": null,
        "xColumns": null,
        "yColumns": null
       },
       "removedWidgets": [],
       "schema": [
        {
         "metadata": "{}",
         "name": "COUNTRY_ID",
         "type": "\"integer\""
        },
        {
         "metadata": "{}",
         "name": "NAME",
         "type": "\"string\""
        },
        {
         "metadata": "{}",
         "name": "NATIONALITY",
         "type": "\"string\""
        },
        {
         "metadata": "{}",
         "name": "COUNTRY_CODE",
         "type": "\"string\""
        },
        {
         "metadata": "{}",
         "name": "ISO_ALPHA2",
         "type": "\"string\""
        },
        {
         "metadata": "{}",
         "name": "CAPITAL",
         "type": "\"string\""
        },
        {
         "metadata": "{}",
         "name": "POPULATION",
         "type": "\"double\""
        },
        {
         "metadata": "{}",
         "name": "AREA_KM2",
         "type": "\"integer\""
        },
        {
         "metadata": "{}",
         "name": "REGION_ID",
         "type": "\"integer\""
        },
        {
         "metadata": "{}",
         "name": "SUB_REGION_ID",
         "type": "\"integer\""
        },
        {
         "metadata": "{}",
         "name": "INTERMEDIATE_REGION_ID",
         "type": "\"integer\""
        },
        {
         "metadata": "{}",
         "name": "ORGANIZATION_REGION_ID",
         "type": "\"integer\""
        },
        {
         "metadata": "{}",
         "name": "timestamp",
         "type": "\"timestamp\""
        },
        {
         "metadata": "{}",
         "name": "date_lit",
         "type": "\"string\""
        }
       ],
       "type": "table"
      }
     },
     "output_type": "display_data"
    }
   ],
   "source": [
    "#adding literal value to a column in order to convert the data type from string to date\n",
    "countries = countries.withColumn('date_lit', lit('08-05-2023'))\n",
    "countries.limit(5).display()"
   ]
  },
  {
   "cell_type": "code",
   "execution_count": 0,
   "metadata": {
    "application/vnd.databricks.v1+cell": {
     "cellMetadata": {
      "byteLimit": 2048000,
      "rowLimit": 10000
     },
     "inputWidgets": {},
     "nuid": "38d7b9e0-86b4-4322-b32c-5d0867e2234a",
     "showTitle": false,
     "title": ""
    }
   },
   "outputs": [
    {
     "output_type": "display_data",
     "data": {
      "text/html": [
       "<style scoped>\n",
       "  .table-result-container {\n",
       "    max-height: 300px;\n",
       "    overflow: auto;\n",
       "  }\n",
       "  table, th, td {\n",
       "    border: 1px solid black;\n",
       "    border-collapse: collapse;\n",
       "  }\n",
       "  th, td {\n",
       "    padding: 5px;\n",
       "  }\n",
       "  th {\n",
       "    text-align: left;\n",
       "  }\n",
       "</style><div class='table-result-container'><table class='table-result'><thead style='background-color: white'><tr><th>COUNTRY_ID</th><th>NAME</th><th>NATIONALITY</th><th>COUNTRY_CODE</th><th>ISO_ALPHA2</th><th>CAPITAL</th><th>POPULATION</th><th>AREA_KM2</th><th>REGION_ID</th><th>SUB_REGION_ID</th><th>INTERMEDIATE_REGION_ID</th><th>ORGANIZATION_REGION_ID</th><th>timestamp</th><th>date_lit</th><th>conv_date</th></tr></thead><tbody><tr><td>1</td><td>Afghanistan</td><td>Afghan</td><td>AFG</td><td>AF</td><td>Kabul</td><td>3.8041754E7</td><td>652230</td><td>30</td><td>30</td><td>null</td><td>30</td><td>2023-05-09T06:07:17.186+0000</td><td>08-05-2023</td><td>2023-05-08</td></tr><tr><td>2</td><td>Albania</td><td>Albanian</td><td>ALB</td><td>AL</td><td>Tirana</td><td>2880917.0</td><td>28748</td><td>20</td><td>70</td><td>null</td><td>20</td><td>2023-05-09T06:07:17.186+0000</td><td>08-05-2023</td><td>2023-05-08</td></tr><tr><td>3</td><td>Algeria</td><td>Algerian</td><td>DZA</td><td>DZ</td><td>Algiers</td><td>4.3053054E7</td><td>2381741</td><td>50</td><td>40</td><td>null</td><td>20</td><td>2023-05-09T06:07:17.186+0000</td><td>08-05-2023</td><td>2023-05-08</td></tr><tr><td>4</td><td>American Samoa</td><td>American Samoan</td><td>ASM</td><td>AS</td><td>Pago Pago</td><td>55312.0</td><td>199</td><td>40</td><td>20</td><td>null</td><td>30</td><td>2023-05-09T06:07:17.186+0000</td><td>08-05-2023</td><td>2023-05-08</td></tr><tr><td>5</td><td>Andorra</td><td>Andorran</td><td>AND</td><td>AD</td><td>Andorra la Vella</td><td>77142.0</td><td>468</td><td>20</td><td>70</td><td>null</td><td>20</td><td>2023-05-09T06:07:17.186+0000</td><td>08-05-2023</td><td>2023-05-08</td></tr></tbody></table></div>"
      ]
     },
     "metadata": {
      "application/vnd.databricks.v1+output": {
       "addedWidgets": {},
       "aggData": [],
       "aggError": "",
       "aggOverflow": false,
       "aggSchema": [],
       "aggSeriesLimitReached": false,
       "aggType": "",
       "arguments": {},
       "columnCustomDisplayInfos": {},
       "data": [
        [
         1,
         "Afghanistan",
         "Afghan",
         "AFG",
         "AF",
         "Kabul",
         3.8041754E7,
         652230,
         30,
         30,
         null,
         30,
         "2023-05-09T06:07:17.186+0000",
         "08-05-2023",
         "2023-05-08"
        ],
        [
         2,
         "Albania",
         "Albanian",
         "ALB",
         "AL",
         "Tirana",
         2880917.0,
         28748,
         20,
         70,
         null,
         20,
         "2023-05-09T06:07:17.186+0000",
         "08-05-2023",
         "2023-05-08"
        ],
        [
         3,
         "Algeria",
         "Algerian",
         "DZA",
         "DZ",
         "Algiers",
         4.3053054E7,
         2381741,
         50,
         40,
         null,
         20,
         "2023-05-09T06:07:17.186+0000",
         "08-05-2023",
         "2023-05-08"
        ],
        [
         4,
         "American Samoa",
         "American Samoan",
         "ASM",
         "AS",
         "Pago Pago",
         55312.0,
         199,
         40,
         20,
         null,
         30,
         "2023-05-09T06:07:17.186+0000",
         "08-05-2023",
         "2023-05-08"
        ],
        [
         5,
         "Andorra",
         "Andorran",
         "AND",
         "AD",
         "Andorra la Vella",
         77142.0,
         468,
         20,
         70,
         null,
         20,
         "2023-05-09T06:07:17.186+0000",
         "08-05-2023",
         "2023-05-08"
        ]
       ],
       "datasetInfos": [],
       "dbfsResultPath": null,
       "isJsonSchema": true,
       "metadata": {},
       "overflow": false,
       "plotOptions": {
        "customPlotOptions": {},
        "displayType": "table",
        "pivotAggregation": null,
        "pivotColumns": null,
        "xColumns": null,
        "yColumns": null
       },
       "removedWidgets": [],
       "schema": [
        {
         "metadata": "{}",
         "name": "COUNTRY_ID",
         "type": "\"integer\""
        },
        {
         "metadata": "{}",
         "name": "NAME",
         "type": "\"string\""
        },
        {
         "metadata": "{}",
         "name": "NATIONALITY",
         "type": "\"string\""
        },
        {
         "metadata": "{}",
         "name": "COUNTRY_CODE",
         "type": "\"string\""
        },
        {
         "metadata": "{}",
         "name": "ISO_ALPHA2",
         "type": "\"string\""
        },
        {
         "metadata": "{}",
         "name": "CAPITAL",
         "type": "\"string\""
        },
        {
         "metadata": "{}",
         "name": "POPULATION",
         "type": "\"double\""
        },
        {
         "metadata": "{}",
         "name": "AREA_KM2",
         "type": "\"integer\""
        },
        {
         "metadata": "{}",
         "name": "REGION_ID",
         "type": "\"integer\""
        },
        {
         "metadata": "{}",
         "name": "SUB_REGION_ID",
         "type": "\"integer\""
        },
        {
         "metadata": "{}",
         "name": "INTERMEDIATE_REGION_ID",
         "type": "\"integer\""
        },
        {
         "metadata": "{}",
         "name": "ORGANIZATION_REGION_ID",
         "type": "\"integer\""
        },
        {
         "metadata": "{}",
         "name": "timestamp",
         "type": "\"timestamp\""
        },
        {
         "metadata": "{}",
         "name": "date_lit",
         "type": "\"string\""
        },
        {
         "metadata": "{}",
         "name": "conv_date",
         "type": "\"date\""
        }
       ],
       "type": "table"
      }
     },
     "output_type": "display_data"
    }
   ],
   "source": [
    "# Use the to_date function to convert the string to a date\n",
    "countries = countries.withColumn('conv_date', to_date(countries['date_lit'],'dd-MM-yyyy'))\n",
    "countries.limit(5).display()"
   ]
  },
  {
   "cell_type": "markdown",
   "metadata": {
    "application/vnd.databricks.v1+cell": {
     "cellMetadata": {},
     "inputWidgets": {},
     "nuid": "8451c976-444d-4bf5-9749-314daf1afad9",
     "showTitle": false,
     "title": ""
    }
   },
   "source": [
    "#### Filtering Dataframes\n",
    "* filter: https://spark.apache.org/docs/latest/api/python/reference/pyspark.pandas/api/pyspark.pandas.DataFrame.filter.html?highlight=filter#pyspark.pandas.DataFrame.filter\n",
    "* Operators for conditional statements: https://spark.apache.org/docs/2.3.0/api/sql/index.html"
   ]
  },
  {
   "cell_type": "code",
   "execution_count": 0,
   "metadata": {
    "application/vnd.databricks.v1+cell": {
     "cellMetadata": {
      "byteLimit": 2048000,
      "rowLimit": 10000
     },
     "inputWidgets": {},
     "nuid": "3f8eac8e-a271-4d08-8499-5e3adf3eccee",
     "showTitle": false,
     "title": ""
    }
   },
   "outputs": [
    {
     "output_type": "display_data",
     "data": {
      "text/html": [
       "<style scoped>\n",
       "  .table-result-container {\n",
       "    max-height: 300px;\n",
       "    overflow: auto;\n",
       "  }\n",
       "  table, th, td {\n",
       "    border: 1px solid black;\n",
       "    border-collapse: collapse;\n",
       "  }\n",
       "  th, td {\n",
       "    padding: 5px;\n",
       "  }\n",
       "  th {\n",
       "    text-align: left;\n",
       "  }\n",
       "</style><div class='table-result-container'><table class='table-result'><thead style='background-color: white'><tr><th>COUNTRY_ID</th><th>NAME</th><th>NATIONALITY</th><th>COUNTRY_CODE</th><th>ISO_ALPHA2</th><th>CAPITAL</th><th>POPULATION</th><th>AREA_KM2</th><th>REGION_ID</th><th>SUB_REGION_ID</th><th>INTERMEDIATE_REGION_ID</th><th>ORGANIZATION_REGION_ID</th><th>timestamp</th><th>date_lit</th><th>conv_date</th></tr></thead><tbody><tr><td>45</td><td>China</td><td>Chinese</td><td>CHN</td><td>CN</td><td>Beijing</td><td>1.433783686E9</td><td>9706961</td><td>30</td><td>60</td><td>null</td><td>30</td><td>2023-05-09T06:08:24.350+0000</td><td>08-05-2023</td><td>2023-05-08</td></tr><tr><td>103</td><td>India</td><td>Indian</td><td>IND</td><td>IN</td><td>New Delhi</td><td>1.366417754E9</td><td>3287590</td><td>30</td><td>30</td><td>null</td><td>30</td><td>2023-05-09T06:08:24.350+0000</td><td>08-05-2023</td><td>2023-05-08</td></tr></tbody></table></div>"
      ]
     },
     "metadata": {
      "application/vnd.databricks.v1+output": {
       "addedWidgets": {},
       "aggData": [],
       "aggError": "",
       "aggOverflow": false,
       "aggSchema": [],
       "aggSeriesLimitReached": false,
       "aggType": "",
       "arguments": {},
       "columnCustomDisplayInfos": {},
       "data": [
        [
         45,
         "China",
         "Chinese",
         "CHN",
         "CN",
         "Beijing",
         1.433783686E9,
         9706961,
         30,
         60,
         null,
         30,
         "2023-05-09T06:08:24.350+0000",
         "08-05-2023",
         "2023-05-08"
        ],
        [
         103,
         "India",
         "Indian",
         "IND",
         "IN",
         "New Delhi",
         1.366417754E9,
         3287590,
         30,
         30,
         null,
         30,
         "2023-05-09T06:08:24.350+0000",
         "08-05-2023",
         "2023-05-08"
        ]
       ],
       "datasetInfos": [],
       "dbfsResultPath": null,
       "isJsonSchema": true,
       "metadata": {},
       "overflow": false,
       "plotOptions": {
        "customPlotOptions": {},
        "displayType": "table",
        "pivotAggregation": null,
        "pivotColumns": null,
        "xColumns": null,
        "yColumns": null
       },
       "removedWidgets": [],
       "schema": [
        {
         "metadata": "{}",
         "name": "COUNTRY_ID",
         "type": "\"integer\""
        },
        {
         "metadata": "{}",
         "name": "NAME",
         "type": "\"string\""
        },
        {
         "metadata": "{}",
         "name": "NATIONALITY",
         "type": "\"string\""
        },
        {
         "metadata": "{}",
         "name": "COUNTRY_CODE",
         "type": "\"string\""
        },
        {
         "metadata": "{}",
         "name": "ISO_ALPHA2",
         "type": "\"string\""
        },
        {
         "metadata": "{}",
         "name": "CAPITAL",
         "type": "\"string\""
        },
        {
         "metadata": "{}",
         "name": "POPULATION",
         "type": "\"double\""
        },
        {
         "metadata": "{}",
         "name": "AREA_KM2",
         "type": "\"integer\""
        },
        {
         "metadata": "{}",
         "name": "REGION_ID",
         "type": "\"integer\""
        },
        {
         "metadata": "{}",
         "name": "SUB_REGION_ID",
         "type": "\"integer\""
        },
        {
         "metadata": "{}",
         "name": "INTERMEDIATE_REGION_ID",
         "type": "\"integer\""
        },
        {
         "metadata": "{}",
         "name": "ORGANIZATION_REGION_ID",
         "type": "\"integer\""
        },
        {
         "metadata": "{}",
         "name": "timestamp",
         "type": "\"timestamp\""
        },
        {
         "metadata": "{}",
         "name": "date_lit",
         "type": "\"string\""
        },
        {
         "metadata": "{}",
         "name": "conv_date",
         "type": "\"date\""
        }
       ],
       "type": "table"
      }
     },
     "output_type": "display_data"
    }
   ],
   "source": [
    "#filtering records where populaton is less than 1b\n",
    "one_b = 1000000000\n",
    "countries.filter(countries['population']>one_b).limit(5).display()"
   ]
  },
  {
   "cell_type": "code",
   "execution_count": 0,
   "metadata": {
    "application/vnd.databricks.v1+cell": {
     "cellMetadata": {
      "byteLimit": 2048000,
      "rowLimit": 10000
     },
     "inputWidgets": {},
     "nuid": "b56718fe-aa1f-4315-8c22-8d4f37f72aa6",
     "showTitle": false,
     "title": ""
    }
   },
   "outputs": [
    {
     "output_type": "display_data",
     "data": {
      "text/html": [
       "<style scoped>\n",
       "  .table-result-container {\n",
       "    max-height: 300px;\n",
       "    overflow: auto;\n",
       "  }\n",
       "  table, th, td {\n",
       "    border: 1px solid black;\n",
       "    border-collapse: collapse;\n",
       "  }\n",
       "  th, td {\n",
       "    padding: 5px;\n",
       "  }\n",
       "  th {\n",
       "    text-align: left;\n",
       "  }\n",
       "</style><div class='table-result-container'><table class='table-result'><thead style='background-color: white'><tr><th>COUNTRY_ID</th><th>NAME</th><th>NATIONALITY</th><th>COUNTRY_CODE</th><th>ISO_ALPHA2</th><th>CAPITAL</th><th>POPULATION</th><th>AREA_KM2</th><th>REGION_ID</th><th>SUB_REGION_ID</th><th>INTERMEDIATE_REGION_ID</th><th>ORGANIZATION_REGION_ID</th><th>timestamp</th><th>date_lit</th><th>conv_date</th></tr></thead><tbody><tr><td>10</td><td>Argentina</td><td>Argentine</td><td>ARG</td><td>AR</td><td>Buenos Aires</td><td>4.4780677E7</td><td>2780400</td><td>10</td><td>10</td><td>40</td><td>40</td><td>2023-05-09T06:08:53.782+0000</td><td>08-05-2023</td><td>2023-05-08</td></tr><tr><td>15</td><td>Azerbaijan</td><td>Azerbaijani</td><td>AZE</td><td>AZ</td><td>Baku</td><td>1.0047718E7</td><td>86600</td><td>30</td><td>170</td><td>null</td><td>30</td><td>2023-05-09T06:08:53.782+0000</td><td>08-05-2023</td><td>2023-05-08</td></tr><tr><td>19</td><td>Barbados</td><td>Barbadian</td><td>BRB</td><td>BB</td><td>Bridgetown</td><td>287025.0</td><td>430</td><td>10</td><td>10</td><td>60</td><td>40</td><td>2023-05-09T06:08:53.782+0000</td><td>08-05-2023</td><td>2023-05-08</td></tr><tr><td>21</td><td>Belgium</td><td>Belgian</td><td>BEL</td><td>BE</td><td>Brussels</td><td>1.1539328E7</td><td>30528</td><td>20</td><td>150</td><td>null</td><td>20</td><td>2023-05-09T06:08:53.782+0000</td><td>08-05-2023</td><td>2023-05-08</td></tr><tr><td>22</td><td>Belize</td><td>Belizean</td><td>BLZ</td><td>BZ</td><td>Belmopan</td><td>390353.0</td><td>22966</td><td>10</td><td>10</td><td>20</td><td>40</td><td>2023-05-09T06:08:53.782+0000</td><td>08-05-2023</td><td>2023-05-08</td></tr></tbody></table></div>"
      ]
     },
     "metadata": {
      "application/vnd.databricks.v1+output": {
       "addedWidgets": {},
       "aggData": [],
       "aggError": "",
       "aggOverflow": false,
       "aggSchema": [],
       "aggSeriesLimitReached": false,
       "aggType": "",
       "arguments": {},
       "columnCustomDisplayInfos": {},
       "data": [
        [
         10,
         "Argentina",
         "Argentine",
         "ARG",
         "AR",
         "Buenos Aires",
         4.4780677E7,
         2780400,
         10,
         10,
         40,
         40,
         "2023-05-09T06:08:53.782+0000",
         "08-05-2023",
         "2023-05-08"
        ],
        [
         15,
         "Azerbaijan",
         "Azerbaijani",
         "AZE",
         "AZ",
         "Baku",
         1.0047718E7,
         86600,
         30,
         170,
         null,
         30,
         "2023-05-09T06:08:53.782+0000",
         "08-05-2023",
         "2023-05-08"
        ],
        [
         19,
         "Barbados",
         "Barbadian",
         "BRB",
         "BB",
         "Bridgetown",
         287025.0,
         430,
         10,
         10,
         60,
         40,
         "2023-05-09T06:08:53.782+0000",
         "08-05-2023",
         "2023-05-08"
        ],
        [
         21,
         "Belgium",
         "Belgian",
         "BEL",
         "BE",
         "Brussels",
         1.1539328E7,
         30528,
         20,
         150,
         null,
         20,
         "2023-05-09T06:08:53.782+0000",
         "08-05-2023",
         "2023-05-08"
        ],
        [
         22,
         "Belize",
         "Belizean",
         "BLZ",
         "BZ",
         "Belmopan",
         390353.0,
         22966,
         10,
         10,
         20,
         40,
         "2023-05-09T06:08:53.782+0000",
         "08-05-2023",
         "2023-05-08"
        ]
       ],
       "datasetInfos": [],
       "dbfsResultPath": null,
       "isJsonSchema": true,
       "metadata": {},
       "overflow": false,
       "plotOptions": {
        "customPlotOptions": {},
        "displayType": "table",
        "pivotAggregation": null,
        "pivotColumns": null,
        "xColumns": null,
        "yColumns": null
       },
       "removedWidgets": [],
       "schema": [
        {
         "metadata": "{}",
         "name": "COUNTRY_ID",
         "type": "\"integer\""
        },
        {
         "metadata": "{}",
         "name": "NAME",
         "type": "\"string\""
        },
        {
         "metadata": "{}",
         "name": "NATIONALITY",
         "type": "\"string\""
        },
        {
         "metadata": "{}",
         "name": "COUNTRY_CODE",
         "type": "\"string\""
        },
        {
         "metadata": "{}",
         "name": "ISO_ALPHA2",
         "type": "\"string\""
        },
        {
         "metadata": "{}",
         "name": "CAPITAL",
         "type": "\"string\""
        },
        {
         "metadata": "{}",
         "name": "POPULATION",
         "type": "\"double\""
        },
        {
         "metadata": "{}",
         "name": "AREA_KM2",
         "type": "\"integer\""
        },
        {
         "metadata": "{}",
         "name": "REGION_ID",
         "type": "\"integer\""
        },
        {
         "metadata": "{}",
         "name": "SUB_REGION_ID",
         "type": "\"integer\""
        },
        {
         "metadata": "{}",
         "name": "INTERMEDIATE_REGION_ID",
         "type": "\"integer\""
        },
        {
         "metadata": "{}",
         "name": "ORGANIZATION_REGION_ID",
         "type": "\"integer\""
        },
        {
         "metadata": "{}",
         "name": "timestamp",
         "type": "\"timestamp\""
        },
        {
         "metadata": "{}",
         "name": "date_lit",
         "type": "\"string\""
        },
        {
         "metadata": "{}",
         "name": "conv_date",
         "type": "\"date\""
        }
       ],
       "type": "table"
      }
     },
     "output_type": "display_data"
    }
   ],
   "source": [
    "# Using the locate function inside the filter condition\n",
    "countries.filter(locate(\"B\", countries['capital'])==1).limit(5).display()"
   ]
  },
  {
   "cell_type": "code",
   "execution_count": 0,
   "metadata": {
    "application/vnd.databricks.v1+cell": {
     "cellMetadata": {
      "byteLimit": 2048000,
      "rowLimit": 10000
     },
     "inputWidgets": {},
     "nuid": "ae26290f-06a2-475e-b854-c22ee11e7264",
     "showTitle": false,
     "title": ""
    }
   },
   "outputs": [
    {
     "output_type": "display_data",
     "data": {
      "text/html": [
       "<style scoped>\n",
       "  .table-result-container {\n",
       "    max-height: 300px;\n",
       "    overflow: auto;\n",
       "  }\n",
       "  table, th, td {\n",
       "    border: 1px solid black;\n",
       "    border-collapse: collapse;\n",
       "  }\n",
       "  th, td {\n",
       "    padding: 5px;\n",
       "  }\n",
       "  th {\n",
       "    text-align: left;\n",
       "  }\n",
       "</style><div class='table-result-container'><table class='table-result'><thead style='background-color: white'><tr><th>COUNTRY_ID</th><th>NAME</th><th>NATIONALITY</th><th>COUNTRY_CODE</th><th>ISO_ALPHA2</th><th>CAPITAL</th><th>POPULATION</th><th>AREA_KM2</th><th>REGION_ID</th><th>SUB_REGION_ID</th><th>INTERMEDIATE_REGION_ID</th><th>ORGANIZATION_REGION_ID</th><th>timestamp</th><th>date_lit</th><th>conv_date</th></tr></thead><tbody><tr><td>28</td><td>Bosnia and Herzegovina</td><td>Bosnian or Herzegovinian</td><td>BIH</td><td>BA</td><td>Sarajevo</td><td>3301000.0</td><td>51209</td><td>20</td><td>70</td><td>null</td><td>20</td><td>2023-05-09T06:28:50.444+0000</td><td>08-05-2023</td><td>2023-05-08</td></tr><tr><td>32</td><td>British Indian Ocean Territory</td><td>BIOT</td><td>IOT</td><td>IO</td><td>Point Marianne</td><td>4000.0</td><td>60</td><td>50</td><td>160</td><td>50</td><td>20</td><td>2023-05-09T06:28:50.444+0000</td><td>08-05-2023</td><td>2023-05-08</td></tr><tr><td>33</td><td>Brunei Darussalam</td><td>Bruneian</td><td>BRN</td><td>BN</td><td>Bandar Seri Begawan</td><td>433285.0</td><td>5765</td><td>30</td><td>100</td><td>null</td><td>30</td><td>2023-05-09T06:28:50.444+0000</td><td>08-05-2023</td><td>2023-05-08</td></tr><tr><td>42</td><td>Central African Republic</td><td>Central African</td><td>CAF</td><td>CF</td><td>Bangui</td><td>4745185.0</td><td>622984</td><td>50</td><td>160</td><td>80</td><td>20</td><td>2023-05-09T06:28:50.444+0000</td><td>08-05-2023</td><td>2023-05-08</td></tr><tr><td>46</td><td>Christmas Island</td><td>Christmas Island</td><td>CXR</td><td>CX</td><td>Flying Fish Cove</td><td>1843.0</td><td>135</td><td>40</td><td>90</td><td>null</td><td>30</td><td>2023-05-09T06:28:50.444+0000</td><td>08-05-2023</td><td>2023-05-08</td></tr></tbody></table></div>"
      ]
     },
     "metadata": {
      "application/vnd.databricks.v1+output": {
       "addedWidgets": {},
       "aggData": [],
       "aggError": "",
       "aggOverflow": false,
       "aggSchema": [],
       "aggSeriesLimitReached": false,
       "aggType": "",
       "arguments": {},
       "columnCustomDisplayInfos": {},
       "data": [
        [
         28,
         "Bosnia and Herzegovina",
         "Bosnian or Herzegovinian",
         "BIH",
         "BA",
         "Sarajevo",
         3301000.0,
         51209,
         20,
         70,
         null,
         20,
         "2023-05-09T06:28:50.444+0000",
         "08-05-2023",
         "2023-05-08"
        ],
        [
         32,
         "British Indian Ocean Territory",
         "BIOT",
         "IOT",
         "IO",
         "Point Marianne",
         4000.0,
         60,
         50,
         160,
         50,
         20,
         "2023-05-09T06:28:50.444+0000",
         "08-05-2023",
         "2023-05-08"
        ],
        [
         33,
         "Brunei Darussalam",
         "Bruneian",
         "BRN",
         "BN",
         "Bandar Seri Begawan",
         433285.0,
         5765,
         30,
         100,
         null,
         30,
         "2023-05-09T06:28:50.444+0000",
         "08-05-2023",
         "2023-05-08"
        ],
        [
         42,
         "Central African Republic",
         "Central African",
         "CAF",
         "CF",
         "Bangui",
         4745185.0,
         622984,
         50,
         160,
         80,
         20,
         "2023-05-09T06:28:50.444+0000",
         "08-05-2023",
         "2023-05-08"
        ],
        [
         46,
         "Christmas Island",
         "Christmas Island",
         "CXR",
         "CX",
         "Flying Fish Cove",
         1843.0,
         135,
         40,
         90,
         null,
         30,
         "2023-05-09T06:28:50.444+0000",
         "08-05-2023",
         "2023-05-08"
        ]
       ],
       "datasetInfos": [],
       "dbfsResultPath": null,
       "isJsonSchema": true,
       "metadata": {},
       "overflow": false,
       "plotOptions": {
        "customPlotOptions": {},
        "displayType": "table",
        "pivotAggregation": null,
        "pivotColumns": null,
        "xColumns": null,
        "yColumns": null
       },
       "removedWidgets": [],
       "schema": [
        {
         "metadata": "{}",
         "name": "COUNTRY_ID",
         "type": "\"integer\""
        },
        {
         "metadata": "{}",
         "name": "NAME",
         "type": "\"string\""
        },
        {
         "metadata": "{}",
         "name": "NATIONALITY",
         "type": "\"string\""
        },
        {
         "metadata": "{}",
         "name": "COUNTRY_CODE",
         "type": "\"string\""
        },
        {
         "metadata": "{}",
         "name": "ISO_ALPHA2",
         "type": "\"string\""
        },
        {
         "metadata": "{}",
         "name": "CAPITAL",
         "type": "\"string\""
        },
        {
         "metadata": "{}",
         "name": "POPULATION",
         "type": "\"double\""
        },
        {
         "metadata": "{}",
         "name": "AREA_KM2",
         "type": "\"integer\""
        },
        {
         "metadata": "{}",
         "name": "REGION_ID",
         "type": "\"integer\""
        },
        {
         "metadata": "{}",
         "name": "SUB_REGION_ID",
         "type": "\"integer\""
        },
        {
         "metadata": "{}",
         "name": "INTERMEDIATE_REGION_ID",
         "type": "\"integer\""
        },
        {
         "metadata": "{}",
         "name": "ORGANIZATION_REGION_ID",
         "type": "\"integer\""
        },
        {
         "metadata": "{}",
         "name": "timestamp",
         "type": "\"timestamp\""
        },
        {
         "metadata": "{}",
         "name": "date_lit",
         "type": "\"string\""
        },
        {
         "metadata": "{}",
         "name": "conv_date",
         "type": "\"date\""
        }
       ],
       "type": "table"
      }
     },
     "output_type": "display_data"
    }
   ],
   "source": [
    "# find countries with name longer than 15 letters and not a region id of 10\n",
    "countries.filter(\n",
    "    (length(countries['NAME']) > 15) & \n",
    "    (countries['REGION_ID'] != 10)\n",
    "    ).limit(5).display()"
   ]
  },
  {
   "cell_type": "code",
   "execution_count": 0,
   "metadata": {
    "application/vnd.databricks.v1+cell": {
     "cellMetadata": {
      "byteLimit": 2048000,
      "rowLimit": 10000
     },
     "inputWidgets": {},
     "nuid": "528dc512-2d82-44ec-b156-662cb2275d9d",
     "showTitle": false,
     "title": ""
    }
   },
   "outputs": [
    {
     "output_type": "display_data",
     "data": {
      "text/html": [
       "<style scoped>\n",
       "  .table-result-container {\n",
       "    max-height: 300px;\n",
       "    overflow: auto;\n",
       "  }\n",
       "  table, th, td {\n",
       "    border: 1px solid black;\n",
       "    border-collapse: collapse;\n",
       "  }\n",
       "  th, td {\n",
       "    padding: 5px;\n",
       "  }\n",
       "  th {\n",
       "    text-align: left;\n",
       "  }\n",
       "</style><div class='table-result-container'><table class='table-result'><thead style='background-color: white'><tr><th>COUNTRY_ID</th><th>NAME</th><th>NATIONALITY</th><th>COUNTRY_CODE</th><th>ISO_ALPHA2</th><th>CAPITAL</th><th>POPULATION</th><th>AREA_KM2</th><th>REGION_ID</th><th>SUB_REGION_ID</th><th>INTERMEDIATE_REGION_ID</th><th>ORGANIZATION_REGION_ID</th><th>timestamp</th><th>date_lit</th><th>conv_date</th></tr></thead><tbody><tr><td>28</td><td>Bosnia and Herzegovina</td><td>Bosnian or Herzegovinian</td><td>BIH</td><td>BA</td><td>Sarajevo</td><td>3301000.0</td><td>51209</td><td>20</td><td>70</td><td>null</td><td>20</td><td>2023-05-09T06:21:43.115+0000</td><td>08-05-2023</td><td>2023-05-08</td></tr><tr><td>32</td><td>British Indian Ocean Territory</td><td>BIOT</td><td>IOT</td><td>IO</td><td>Point Marianne</td><td>4000.0</td><td>60</td><td>50</td><td>160</td><td>50</td><td>20</td><td>2023-05-09T06:21:43.115+0000</td><td>08-05-2023</td><td>2023-05-08</td></tr><tr><td>33</td><td>Brunei Darussalam</td><td>Bruneian</td><td>BRN</td><td>BN</td><td>Bandar Seri Begawan</td><td>433285.0</td><td>5765</td><td>30</td><td>100</td><td>null</td><td>30</td><td>2023-05-09T06:21:43.115+0000</td><td>08-05-2023</td><td>2023-05-08</td></tr><tr><td>42</td><td>Central African Republic</td><td>Central African</td><td>CAF</td><td>CF</td><td>Bangui</td><td>4745185.0</td><td>622984</td><td>50</td><td>160</td><td>80</td><td>20</td><td>2023-05-09T06:21:43.115+0000</td><td>08-05-2023</td><td>2023-05-08</td></tr><tr><td>46</td><td>Christmas Island</td><td>Christmas Island</td><td>CXR</td><td>CX</td><td>Flying Fish Cove</td><td>1843.0</td><td>135</td><td>40</td><td>90</td><td>null</td><td>30</td><td>2023-05-09T06:21:43.115+0000</td><td>08-05-2023</td><td>2023-05-08</td></tr></tbody></table></div>"
      ]
     },
     "metadata": {
      "application/vnd.databricks.v1+output": {
       "addedWidgets": {},
       "aggData": [],
       "aggError": "",
       "aggOverflow": false,
       "aggSchema": [],
       "aggSeriesLimitReached": false,
       "aggType": "",
       "arguments": {},
       "columnCustomDisplayInfos": {},
       "data": [
        [
         28,
         "Bosnia and Herzegovina",
         "Bosnian or Herzegovinian",
         "BIH",
         "BA",
         "Sarajevo",
         3301000.0,
         51209,
         20,
         70,
         null,
         20,
         "2023-05-09T06:21:43.115+0000",
         "08-05-2023",
         "2023-05-08"
        ],
        [
         32,
         "British Indian Ocean Territory",
         "BIOT",
         "IOT",
         "IO",
         "Point Marianne",
         4000.0,
         60,
         50,
         160,
         50,
         20,
         "2023-05-09T06:21:43.115+0000",
         "08-05-2023",
         "2023-05-08"
        ],
        [
         33,
         "Brunei Darussalam",
         "Bruneian",
         "BRN",
         "BN",
         "Bandar Seri Begawan",
         433285.0,
         5765,
         30,
         100,
         null,
         30,
         "2023-05-09T06:21:43.115+0000",
         "08-05-2023",
         "2023-05-08"
        ],
        [
         42,
         "Central African Republic",
         "Central African",
         "CAF",
         "CF",
         "Bangui",
         4745185.0,
         622984,
         50,
         160,
         80,
         20,
         "2023-05-09T06:21:43.115+0000",
         "08-05-2023",
         "2023-05-08"
        ],
        [
         46,
         "Christmas Island",
         "Christmas Island",
         "CXR",
         "CX",
         "Flying Fish Cove",
         1843.0,
         135,
         40,
         90,
         null,
         30,
         "2023-05-09T06:21:43.115+0000",
         "08-05-2023",
         "2023-05-08"
        ]
       ],
       "datasetInfos": [],
       "dbfsResultPath": null,
       "isJsonSchema": true,
       "metadata": {},
       "overflow": false,
       "plotOptions": {
        "customPlotOptions": {},
        "displayType": "table",
        "pivotAggregation": null,
        "pivotColumns": null,
        "xColumns": null,
        "yColumns": null
       },
       "removedWidgets": [],
       "schema": [
        {
         "metadata": "{}",
         "name": "COUNTRY_ID",
         "type": "\"integer\""
        },
        {
         "metadata": "{}",
         "name": "NAME",
         "type": "\"string\""
        },
        {
         "metadata": "{}",
         "name": "NATIONALITY",
         "type": "\"string\""
        },
        {
         "metadata": "{}",
         "name": "COUNTRY_CODE",
         "type": "\"string\""
        },
        {
         "metadata": "{}",
         "name": "ISO_ALPHA2",
         "type": "\"string\""
        },
        {
         "metadata": "{}",
         "name": "CAPITAL",
         "type": "\"string\""
        },
        {
         "metadata": "{}",
         "name": "POPULATION",
         "type": "\"double\""
        },
        {
         "metadata": "{}",
         "name": "AREA_KM2",
         "type": "\"integer\""
        },
        {
         "metadata": "{}",
         "name": "REGION_ID",
         "type": "\"integer\""
        },
        {
         "metadata": "{}",
         "name": "SUB_REGION_ID",
         "type": "\"integer\""
        },
        {
         "metadata": "{}",
         "name": "INTERMEDIATE_REGION_ID",
         "type": "\"integer\""
        },
        {
         "metadata": "{}",
         "name": "ORGANIZATION_REGION_ID",
         "type": "\"integer\""
        },
        {
         "metadata": "{}",
         "name": "timestamp",
         "type": "\"timestamp\""
        },
        {
         "metadata": "{}",
         "name": "date_lit",
         "type": "\"string\""
        },
        {
         "metadata": "{}",
         "name": "conv_date",
         "type": "\"date\""
        }
       ],
       "type": "table"
      }
     },
     "output_type": "display_data"
    }
   ],
   "source": [
    "# find countries with name longer than 15 letters and not a region id of 10 using sql syntax\n",
    "countries.filter('length(name) > 15 and region_id != 10').limit(5).display()"
   ]
  },
  {
   "cell_type": "markdown",
   "metadata": {
    "application/vnd.databricks.v1+cell": {
     "cellMetadata": {},
     "inputWidgets": {},
     "nuid": "d7cf6918-8c3f-41ab-996f-f6fa540e355f",
     "showTitle": false,
     "title": ""
    }
   },
   "source": [
    "#### Conditional Statements\n",
    "* when: https://spark.apache.org/docs/latest/api/python/reference/pyspark.sql/api/pyspark.sql.Column.when.html?highlight=when#pyspark.sql.Column.when"
   ]
  },
  {
   "cell_type": "code",
   "execution_count": 0,
   "metadata": {
    "application/vnd.databricks.v1+cell": {
     "cellMetadata": {
      "byteLimit": 2048000,
      "rowLimit": 10000
     },
     "inputWidgets": {},
     "nuid": "38715bc0-1611-47f6-a5c4-971c8a105c30",
     "showTitle": false,
     "title": ""
    }
   },
   "outputs": [
    {
     "output_type": "display_data",
     "data": {
      "text/html": [
       "<style scoped>\n",
       "  .table-result-container {\n",
       "    max-height: 300px;\n",
       "    overflow: auto;\n",
       "  }\n",
       "  table, th, td {\n",
       "    border: 1px solid black;\n",
       "    border-collapse: collapse;\n",
       "  }\n",
       "  th, td {\n",
       "    padding: 5px;\n",
       "  }\n",
       "  th {\n",
       "    text-align: left;\n",
       "  }\n",
       "</style><div class='table-result-container'><table class='table-result'><thead style='background-color: white'><tr><th>COUNTRY_ID</th><th>NAME</th><th>NATIONALITY</th><th>COUNTRY_CODE</th><th>ISO_ALPHA2</th><th>CAPITAL</th><th>POPULATION</th><th>AREA_KM2</th><th>REGION_ID</th><th>SUB_REGION_ID</th><th>INTERMEDIATE_REGION_ID</th><th>ORGANIZATION_REGION_ID</th><th>timestamp</th><th>date_lit</th><th>conv_date</th><th>population_size</th></tr></thead><tbody><tr><td>1</td><td>Afghanistan</td><td>Afghan</td><td>AFG</td><td>AF</td><td>Kabul</td><td>3.8041754E7</td><td>652230</td><td>30</td><td>30</td><td>null</td><td>30</td><td>2023-05-09T06:30:55.678+0000</td><td>08-05-2023</td><td>2023-05-08</td><td>not that big</td></tr><tr><td>2</td><td>Albania</td><td>Albanian</td><td>ALB</td><td>AL</td><td>Tirana</td><td>2880917.0</td><td>28748</td><td>20</td><td>70</td><td>null</td><td>20</td><td>2023-05-09T06:30:55.678+0000</td><td>08-05-2023</td><td>2023-05-08</td><td>not that big</td></tr><tr><td>3</td><td>Algeria</td><td>Algerian</td><td>DZA</td><td>DZ</td><td>Algiers</td><td>4.3053054E7</td><td>2381741</td><td>50</td><td>40</td><td>null</td><td>20</td><td>2023-05-09T06:30:55.678+0000</td><td>08-05-2023</td><td>2023-05-08</td><td>not that big</td></tr><tr><td>4</td><td>American Samoa</td><td>American Samoan</td><td>ASM</td><td>AS</td><td>Pago Pago</td><td>55312.0</td><td>199</td><td>40</td><td>20</td><td>null</td><td>30</td><td>2023-05-09T06:30:55.678+0000</td><td>08-05-2023</td><td>2023-05-08</td><td>not that big</td></tr><tr><td>5</td><td>Andorra</td><td>Andorran</td><td>AND</td><td>AD</td><td>Andorra la Vella</td><td>77142.0</td><td>468</td><td>20</td><td>70</td><td>null</td><td>20</td><td>2023-05-09T06:30:55.678+0000</td><td>08-05-2023</td><td>2023-05-08</td><td>not that big</td></tr><tr><td>6</td><td>Angola</td><td>Angolan</td><td>AGO</td><td>AO</td><td>Luanda</td><td>3.1825295E7</td><td>1246700</td><td>50</td><td>160</td><td>80</td><td>20</td><td>2023-05-09T06:30:55.678+0000</td><td>08-05-2023</td><td>2023-05-08</td><td>not that big</td></tr><tr><td>7</td><td>Anguilla</td><td>Anguillan</td><td>AIA</td><td>AI</td><td>The Valley</td><td>14869.0</td><td>91</td><td>10</td><td>10</td><td>60</td><td>40</td><td>2023-05-09T06:30:55.678+0000</td><td>08-05-2023</td><td>2023-05-08</td><td>not that big</td></tr><tr><td>8</td><td>Antarctica</td><td>Antarctic</td><td>ATA</td><td>AQ</td><td>McMurdo Station</td><td>1106.0</td><td>14200000</td><td>40</td><td>null</td><td>null</td><td>30</td><td>2023-05-09T06:30:55.678+0000</td><td>08-05-2023</td><td>2023-05-08</td><td>not that big</td></tr><tr><td>9</td><td>Antigua and Barbuda</td><td>Antiguan or Barbudan</td><td>ATG</td><td>AG</td><td>St. John's</td><td>97118.0</td><td>442</td><td>10</td><td>10</td><td>60</td><td>40</td><td>2023-05-09T06:30:55.678+0000</td><td>08-05-2023</td><td>2023-05-08</td><td>not that big</td></tr><tr><td>10</td><td>Argentina</td><td>Argentine</td><td>ARG</td><td>AR</td><td>Buenos Aires</td><td>4.4780677E7</td><td>2780400</td><td>10</td><td>10</td><td>40</td><td>40</td><td>2023-05-09T06:30:55.678+0000</td><td>08-05-2023</td><td>2023-05-08</td><td>not that big</td></tr><tr><td>11</td><td>Armenia</td><td>Armenian</td><td>ARM</td><td>AM</td><td>Yerevan</td><td>2957731.0</td><td>29743</td><td>30</td><td>170</td><td>null</td><td>30</td><td>2023-05-09T06:30:55.678+0000</td><td>08-05-2023</td><td>2023-05-08</td><td>not that big</td></tr><tr><td>12</td><td>Aruba</td><td>Aruban</td><td>ABW</td><td>AW</td><td>Oranjestad</td><td>106314.0</td><td>180</td><td>10</td><td>10</td><td>60</td><td>40</td><td>2023-05-09T06:30:55.678+0000</td><td>08-05-2023</td><td>2023-05-08</td><td>not that big</td></tr><tr><td>13</td><td>Australia</td><td>Australian</td><td>AUS</td><td>AU</td><td>Canberra</td><td>2.5203198E7</td><td>7692024</td><td>40</td><td>90</td><td>null</td><td>30</td><td>2023-05-09T06:30:55.678+0000</td><td>08-05-2023</td><td>2023-05-08</td><td>not that big</td></tr><tr><td>14</td><td>Austria</td><td>Austrian</td><td>AUT</td><td>AT</td><td>Vienna</td><td>8955102.0</td><td>83871</td><td>20</td><td>150</td><td>null</td><td>20</td><td>2023-05-09T06:30:55.678+0000</td><td>08-05-2023</td><td>2023-05-08</td><td>not that big</td></tr><tr><td>15</td><td>Azerbaijan</td><td>Azerbaijani</td><td>AZE</td><td>AZ</td><td>Baku</td><td>1.0047718E7</td><td>86600</td><td>30</td><td>170</td><td>null</td><td>30</td><td>2023-05-09T06:30:55.678+0000</td><td>08-05-2023</td><td>2023-05-08</td><td>not that big</td></tr><tr><td>16</td><td>Bahamas</td><td>Bahamian</td><td>BHS</td><td>BS</td><td>Nassau</td><td>389482.0</td><td>13943</td><td>10</td><td>10</td><td>60</td><td>40</td><td>2023-05-09T06:30:55.678+0000</td><td>08-05-2023</td><td>2023-05-08</td><td>not that big</td></tr><tr><td>17</td><td>Bahrain</td><td>Bahraini</td><td>BHR</td><td>BH</td><td>Manama</td><td>1641172.0</td><td>765</td><td>30</td><td>170</td><td>null</td><td>30</td><td>2023-05-09T06:30:55.678+0000</td><td>08-05-2023</td><td>2023-05-08</td><td>not that big</td></tr><tr><td>18</td><td>Bangladesh</td><td>Bangladeshi</td><td>BGD</td><td>BD</td><td>Dhaka</td><td>1.63046161E8</td><td>147570</td><td>30</td><td>30</td><td>null</td><td>30</td><td>2023-05-09T06:30:55.678+0000</td><td>08-05-2023</td><td>2023-05-08</td><td>big</td></tr><tr><td>19</td><td>Barbados</td><td>Barbadian</td><td>BRB</td><td>BB</td><td>Bridgetown</td><td>287025.0</td><td>430</td><td>10</td><td>10</td><td>60</td><td>40</td><td>2023-05-09T06:30:55.678+0000</td><td>08-05-2023</td><td>2023-05-08</td><td>not that big</td></tr><tr><td>20</td><td>Belarus</td><td>Belarusian</td><td>BLR</td><td>BY</td><td>Minsk</td><td>9452411.0</td><td>207600</td><td>20</td><td>140</td><td>null</td><td>20</td><td>2023-05-09T06:30:55.678+0000</td><td>08-05-2023</td><td>2023-05-08</td><td>not that big</td></tr></tbody></table></div>"
      ]
     },
     "metadata": {
      "application/vnd.databricks.v1+output": {
       "addedWidgets": {},
       "aggData": [],
       "aggError": "",
       "aggOverflow": false,
       "aggSchema": [],
       "aggSeriesLimitReached": false,
       "aggType": "",
       "arguments": {},
       "columnCustomDisplayInfos": {},
       "data": [
        [
         1,
         "Afghanistan",
         "Afghan",
         "AFG",
         "AF",
         "Kabul",
         3.8041754E7,
         652230,
         30,
         30,
         null,
         30,
         "2023-05-09T06:30:55.678+0000",
         "08-05-2023",
         "2023-05-08",
         "not that big"
        ],
        [
         2,
         "Albania",
         "Albanian",
         "ALB",
         "AL",
         "Tirana",
         2880917.0,
         28748,
         20,
         70,
         null,
         20,
         "2023-05-09T06:30:55.678+0000",
         "08-05-2023",
         "2023-05-08",
         "not that big"
        ],
        [
         3,
         "Algeria",
         "Algerian",
         "DZA",
         "DZ",
         "Algiers",
         4.3053054E7,
         2381741,
         50,
         40,
         null,
         20,
         "2023-05-09T06:30:55.678+0000",
         "08-05-2023",
         "2023-05-08",
         "not that big"
        ],
        [
         4,
         "American Samoa",
         "American Samoan",
         "ASM",
         "AS",
         "Pago Pago",
         55312.0,
         199,
         40,
         20,
         null,
         30,
         "2023-05-09T06:30:55.678+0000",
         "08-05-2023",
         "2023-05-08",
         "not that big"
        ],
        [
         5,
         "Andorra",
         "Andorran",
         "AND",
         "AD",
         "Andorra la Vella",
         77142.0,
         468,
         20,
         70,
         null,
         20,
         "2023-05-09T06:30:55.678+0000",
         "08-05-2023",
         "2023-05-08",
         "not that big"
        ],
        [
         6,
         "Angola",
         "Angolan",
         "AGO",
         "AO",
         "Luanda",
         3.1825295E7,
         1246700,
         50,
         160,
         80,
         20,
         "2023-05-09T06:30:55.678+0000",
         "08-05-2023",
         "2023-05-08",
         "not that big"
        ],
        [
         7,
         "Anguilla",
         "Anguillan",
         "AIA",
         "AI",
         "The Valley",
         14869.0,
         91,
         10,
         10,
         60,
         40,
         "2023-05-09T06:30:55.678+0000",
         "08-05-2023",
         "2023-05-08",
         "not that big"
        ],
        [
         8,
         "Antarctica",
         "Antarctic",
         "ATA",
         "AQ",
         "McMurdo Station",
         1106.0,
         14200000,
         40,
         null,
         null,
         30,
         "2023-05-09T06:30:55.678+0000",
         "08-05-2023",
         "2023-05-08",
         "not that big"
        ],
        [
         9,
         "Antigua and Barbuda",
         "Antiguan or Barbudan",
         "ATG",
         "AG",
         "St. John's",
         97118.0,
         442,
         10,
         10,
         60,
         40,
         "2023-05-09T06:30:55.678+0000",
         "08-05-2023",
         "2023-05-08",
         "not that big"
        ],
        [
         10,
         "Argentina",
         "Argentine",
         "ARG",
         "AR",
         "Buenos Aires",
         4.4780677E7,
         2780400,
         10,
         10,
         40,
         40,
         "2023-05-09T06:30:55.678+0000",
         "08-05-2023",
         "2023-05-08",
         "not that big"
        ],
        [
         11,
         "Armenia",
         "Armenian",
         "ARM",
         "AM",
         "Yerevan",
         2957731.0,
         29743,
         30,
         170,
         null,
         30,
         "2023-05-09T06:30:55.678+0000",
         "08-05-2023",
         "2023-05-08",
         "not that big"
        ],
        [
         12,
         "Aruba",
         "Aruban",
         "ABW",
         "AW",
         "Oranjestad",
         106314.0,
         180,
         10,
         10,
         60,
         40,
         "2023-05-09T06:30:55.678+0000",
         "08-05-2023",
         "2023-05-08",
         "not that big"
        ],
        [
         13,
         "Australia",
         "Australian",
         "AUS",
         "AU",
         "Canberra",
         2.5203198E7,
         7692024,
         40,
         90,
         null,
         30,
         "2023-05-09T06:30:55.678+0000",
         "08-05-2023",
         "2023-05-08",
         "not that big"
        ],
        [
         14,
         "Austria",
         "Austrian",
         "AUT",
         "AT",
         "Vienna",
         8955102.0,
         83871,
         20,
         150,
         null,
         20,
         "2023-05-09T06:30:55.678+0000",
         "08-05-2023",
         "2023-05-08",
         "not that big"
        ],
        [
         15,
         "Azerbaijan",
         "Azerbaijani",
         "AZE",
         "AZ",
         "Baku",
         1.0047718E7,
         86600,
         30,
         170,
         null,
         30,
         "2023-05-09T06:30:55.678+0000",
         "08-05-2023",
         "2023-05-08",
         "not that big"
        ],
        [
         16,
         "Bahamas",
         "Bahamian",
         "BHS",
         "BS",
         "Nassau",
         389482.0,
         13943,
         10,
         10,
         60,
         40,
         "2023-05-09T06:30:55.678+0000",
         "08-05-2023",
         "2023-05-08",
         "not that big"
        ],
        [
         17,
         "Bahrain",
         "Bahraini",
         "BHR",
         "BH",
         "Manama",
         1641172.0,
         765,
         30,
         170,
         null,
         30,
         "2023-05-09T06:30:55.678+0000",
         "08-05-2023",
         "2023-05-08",
         "not that big"
        ],
        [
         18,
         "Bangladesh",
         "Bangladeshi",
         "BGD",
         "BD",
         "Dhaka",
         1.63046161E8,
         147570,
         30,
         30,
         null,
         30,
         "2023-05-09T06:30:55.678+0000",
         "08-05-2023",
         "2023-05-08",
         "big"
        ],
        [
         19,
         "Barbados",
         "Barbadian",
         "BRB",
         "BB",
         "Bridgetown",
         287025.0,
         430,
         10,
         10,
         60,
         40,
         "2023-05-09T06:30:55.678+0000",
         "08-05-2023",
         "2023-05-08",
         "not that big"
        ],
        [
         20,
         "Belarus",
         "Belarusian",
         "BLR",
         "BY",
         "Minsk",
         9452411.0,
         207600,
         20,
         140,
         null,
         20,
         "2023-05-09T06:30:55.678+0000",
         "08-05-2023",
         "2023-05-08",
         "not that big"
        ]
       ],
       "datasetInfos": [],
       "dbfsResultPath": null,
       "isJsonSchema": true,
       "metadata": {},
       "overflow": false,
       "plotOptions": {
        "customPlotOptions": {},
        "displayType": "table",
        "pivotAggregation": null,
        "pivotColumns": null,
        "xColumns": null,
        "yColumns": null
       },
       "removedWidgets": [],
       "schema": [
        {
         "metadata": "{}",
         "name": "COUNTRY_ID",
         "type": "\"integer\""
        },
        {
         "metadata": "{}",
         "name": "NAME",
         "type": "\"string\""
        },
        {
         "metadata": "{}",
         "name": "NATIONALITY",
         "type": "\"string\""
        },
        {
         "metadata": "{}",
         "name": "COUNTRY_CODE",
         "type": "\"string\""
        },
        {
         "metadata": "{}",
         "name": "ISO_ALPHA2",
         "type": "\"string\""
        },
        {
         "metadata": "{}",
         "name": "CAPITAL",
         "type": "\"string\""
        },
        {
         "metadata": "{}",
         "name": "POPULATION",
         "type": "\"double\""
        },
        {
         "metadata": "{}",
         "name": "AREA_KM2",
         "type": "\"integer\""
        },
        {
         "metadata": "{}",
         "name": "REGION_ID",
         "type": "\"integer\""
        },
        {
         "metadata": "{}",
         "name": "SUB_REGION_ID",
         "type": "\"integer\""
        },
        {
         "metadata": "{}",
         "name": "INTERMEDIATE_REGION_ID",
         "type": "\"integer\""
        },
        {
         "metadata": "{}",
         "name": "ORGANIZATION_REGION_ID",
         "type": "\"integer\""
        },
        {
         "metadata": "{}",
         "name": "timestamp",
         "type": "\"timestamp\""
        },
        {
         "metadata": "{}",
         "name": "date_lit",
         "type": "\"string\""
        },
        {
         "metadata": "{}",
         "name": "conv_date",
         "type": "\"date\""
        },
        {
         "metadata": "{}",
         "name": "population_size",
         "type": "\"string\""
        }
       ],
       "type": "table"
      }
     },
     "output_type": "display_data"
    }
   ],
   "source": [
    "# using the when condition to add population_size column when population is over 100m. if true value = large, else 'not large\n",
    "countries.withColumn('population_size', when(countries['population'] > 100000000, 'big').otherwise('not that big')).limit(20).display()"
   ]
  },
  {
   "cell_type": "markdown",
   "metadata": {
    "application/vnd.databricks.v1+cell": {
     "cellMetadata": {},
     "inputWidgets": {},
     "nuid": "5008f10e-1a11-4f92-b494-03f765ddc31d",
     "showTitle": false,
     "title": ""
    }
   },
   "source": [
    "#### Expr:\n",
    "* https://spark.apache.org/docs/latest/api/python/reference/pyspark.sql/api/pyspark.sql.functions.expr.html?highlight=expr#pyspark.sql.functions.expr"
   ]
  },
  {
   "cell_type": "code",
   "execution_count": 0,
   "metadata": {
    "application/vnd.databricks.v1+cell": {
     "cellMetadata": {
      "byteLimit": 2048000,
      "rowLimit": 10000
     },
     "inputWidgets": {},
     "nuid": "5d71f7e1-fd8e-4e3c-bbb1-4f224609db4d",
     "showTitle": false,
     "title": ""
    }
   },
   "outputs": [
    {
     "output_type": "display_data",
     "data": {
      "text/html": [
       "<style scoped>\n",
       "  .table-result-container {\n",
       "    max-height: 300px;\n",
       "    overflow: auto;\n",
       "  }\n",
       "  table, th, td {\n",
       "    border: 1px solid black;\n",
       "    border-collapse: collapse;\n",
       "  }\n",
       "  th, td {\n",
       "    padding: 5px;\n",
       "  }\n",
       "  th {\n",
       "    text-align: left;\n",
       "  }\n",
       "</style><div class='table-result-container'><table class='table-result'><thead style='background-color: white'><tr><th>COUNTRY_ID</th><th>NAME</th><th>NATIONALITY</th><th>COUNTRY_CODE</th><th>ISO_ALPHA2</th><th>CAPITAL</th><th>POPULATION</th><th>AREA_KM2</th><th>REGION_ID</th><th>SUB_REGION_ID</th><th>INTERMEDIATE_REGION_ID</th><th>ORGANIZATION_REGION_ID</th><th>area_class</th></tr></thead><tbody><tr><td>1</td><td>Afghanistan</td><td>Afghan</td><td>AFG</td><td>AF</td><td>Kabul</td><td>3.8041754E7</td><td>652230</td><td>30</td><td>30</td><td>null</td><td>30</td><td>medium</td></tr><tr><td>2</td><td>Albania</td><td>Albanian</td><td>ALB</td><td>AL</td><td>Tirana</td><td>2880917.0</td><td>28748</td><td>20</td><td>70</td><td>null</td><td>20</td><td>small</td></tr><tr><td>3</td><td>Algeria</td><td>Algerian</td><td>DZA</td><td>DZ</td><td>Algiers</td><td>4.3053054E7</td><td>2381741</td><td>50</td><td>40</td><td>null</td><td>20</td><td>large</td></tr><tr><td>4</td><td>American Samoa</td><td>American Samoan</td><td>ASM</td><td>AS</td><td>Pago Pago</td><td>55312.0</td><td>199</td><td>40</td><td>20</td><td>null</td><td>30</td><td>small</td></tr><tr><td>5</td><td>Andorra</td><td>Andorran</td><td>AND</td><td>AD</td><td>Andorra la Vella</td><td>77142.0</td><td>468</td><td>20</td><td>70</td><td>null</td><td>20</td><td>small</td></tr></tbody></table></div>"
      ]
     },
     "metadata": {
      "application/vnd.databricks.v1+output": {
       "addedWidgets": {},
       "aggData": [],
       "aggError": "",
       "aggOverflow": false,
       "aggSchema": [],
       "aggSeriesLimitReached": false,
       "aggType": "",
       "arguments": {},
       "columnCustomDisplayInfos": {},
       "data": [
        [
         1,
         "Afghanistan",
         "Afghan",
         "AFG",
         "AF",
         "Kabul",
         3.8041754E7,
         652230,
         30,
         30,
         null,
         30,
         "medium"
        ],
        [
         2,
         "Albania",
         "Albanian",
         "ALB",
         "AL",
         "Tirana",
         2880917.0,
         28748,
         20,
         70,
         null,
         20,
         "small"
        ],
        [
         3,
         "Algeria",
         "Algerian",
         "DZA",
         "DZ",
         "Algiers",
         4.3053054E7,
         2381741,
         50,
         40,
         null,
         20,
         "large"
        ],
        [
         4,
         "American Samoa",
         "American Samoan",
         "ASM",
         "AS",
         "Pago Pago",
         55312.0,
         199,
         40,
         20,
         null,
         30,
         "small"
        ],
        [
         5,
         "Andorra",
         "Andorran",
         "AND",
         "AD",
         "Andorra la Vella",
         77142.0,
         468,
         20,
         70,
         null,
         20,
         "small"
        ]
       ],
       "datasetInfos": [],
       "dbfsResultPath": null,
       "isJsonSchema": true,
       "metadata": {},
       "overflow": false,
       "plotOptions": {
        "customPlotOptions": {},
        "displayType": "table",
        "pivotAggregation": null,
        "pivotColumns": null,
        "xColumns": null,
        "yColumns": null
       },
       "removedWidgets": [],
       "schema": [
        {
         "metadata": "{}",
         "name": "COUNTRY_ID",
         "type": "\"integer\""
        },
        {
         "metadata": "{}",
         "name": "NAME",
         "type": "\"string\""
        },
        {
         "metadata": "{}",
         "name": "NATIONALITY",
         "type": "\"string\""
        },
        {
         "metadata": "{}",
         "name": "COUNTRY_CODE",
         "type": "\"string\""
        },
        {
         "metadata": "{}",
         "name": "ISO_ALPHA2",
         "type": "\"string\""
        },
        {
         "metadata": "{}",
         "name": "CAPITAL",
         "type": "\"string\""
        },
        {
         "metadata": "{}",
         "name": "POPULATION",
         "type": "\"double\""
        },
        {
         "metadata": "{}",
         "name": "AREA_KM2",
         "type": "\"integer\""
        },
        {
         "metadata": "{}",
         "name": "REGION_ID",
         "type": "\"integer\""
        },
        {
         "metadata": "{}",
         "name": "SUB_REGION_ID",
         "type": "\"integer\""
        },
        {
         "metadata": "{}",
         "name": "INTERMEDIATE_REGION_ID",
         "type": "\"integer\""
        },
        {
         "metadata": "{}",
         "name": "ORGANIZATION_REGION_ID",
         "type": "\"integer\""
        },
        {
         "metadata": "{}",
         "name": "area_class",
         "type": "\"string\""
        }
       ],
       "type": "table"
      }
     },
     "output_type": "display_data"
    }
   ],
   "source": [
    "#creating new column area_class, which should contain value of large if AREA_KM2 > 1000000, medium if AREA_KM2 > 300000, or small otherwise. [using sql syntax]\n",
    "countries.withColumn(\n",
    "    'area_class', \n",
    "    expr(\"case when area_km2 > 1000000 then 'large' when area_km2 > 300000 then 'medium' else 'small' end\")\n",
    "    ).limit(5).display()"
   ]
  },
  {
   "cell_type": "code",
   "execution_count": 0,
   "metadata": {
    "application/vnd.databricks.v1+cell": {
     "cellMetadata": {},
     "inputWidgets": {},
     "nuid": "3e7d7627-bee6-471e-aeb8-0a3f29aadb45",
     "showTitle": false,
     "title": ""
    }
   },
   "outputs": [],
   "source": []
  }
 ],
 "metadata": {
  "application/vnd.databricks.v1+notebook": {
   "dashboards": [],
   "language": "python",
   "notebookMetadata": {
    "pythonIndentUnit": 4
   },
   "notebookName": "Data transformation",
   "widgets": {}
  }
 },
 "nbformat": 4,
 "nbformat_minor": 0
}
