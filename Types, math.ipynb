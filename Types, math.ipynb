{
 "cells": [
  {
   "cell_type": "markdown",
   "metadata": {
    "application/vnd.databricks.v1+cell": {
     "cellMetadata": {},
     "inputWidgets": {},
     "nuid": "724897aa-fd29-4924-928a-4560a17dd86c",
     "showTitle": false,
     "title": ""
    }
   },
   "source": [
    "#### Changing Data Types\n",
    "* data types in spark: https://spark.apache.org/docs/latest/sql-ref-datatypes.html\n",
    "* cast: https://spark.apache.org/docs/latest/api/python/reference/pyspark.sql/api/pyspark.sql.Column.cast.html?highlight=cast#pyspark.sql.Column.cast"
   ]
  },
  {
   "cell_type": "code",
   "execution_count": 0,
   "metadata": {
    "application/vnd.databricks.v1+cell": {
     "cellMetadata": {
      "byteLimit": 2048000,
      "rowLimit": 10000
     },
     "inputWidgets": {},
     "nuid": "e4e39319-73d3-4fae-bc3a-a2430e46ab95",
     "showTitle": false,
     "title": ""
    }
   },
   "outputs": [
    {
     "output_type": "display_data",
     "data": {
      "text/html": [
       "<style scoped>\n",
       "  .ansiout {\n",
       "    display: block;\n",
       "    unicode-bidi: embed;\n",
       "    white-space: pre-wrap;\n",
       "    word-wrap: break-word;\n",
       "    word-break: break-all;\n",
       "    font-family: \"Source Code Pro\", \"Menlo\", monospace;;\n",
       "    font-size: 13px;\n",
       "    color: #555;\n",
       "    margin-left: 4px;\n",
       "    line-height: 19px;\n",
       "  }\n",
       "</style>\n",
       "<div class=\"ansiout\"></div>"
      ]
     },
     "metadata": {
      "application/vnd.databricks.v1+output": {
       "addedWidgets": {},
       "arguments": {},
       "data": "<div class=\"ansiout\"></div>",
       "datasetInfos": [],
       "metadata": {},
       "removedWidgets": [],
       "type": "html"
      }
     },
     "output_type": "display_data"
    }
   ],
   "source": [
    "# Reading in the countries.csv file and specifying the schema\n",
    "countries_path = 'dbfs:/FileStore/read_write_data/countries.csv'\n",
    " \n",
    "from pyspark.sql.types import IntegerType, StringType, DoubleType, StructField, StructType\n",
    "countries_schema = StructType([\n",
    "                    StructField(\"COUNTRY_ID\", IntegerType(), False),\n",
    "                    StructField(\"NAME\", StringType(), False),\n",
    "                    StructField(\"NATIONALITY\", StringType(), False),\n",
    "                    StructField(\"COUNTRY_CODE\", StringType(), False),\n",
    "                    StructField(\"ISO_ALPHA2\", StringType(), False),\n",
    "                    StructField(\"CAPITAL\", StringType(), False),\n",
    "                    StructField(\"POPULATION\", DoubleType(), False),\n",
    "                    StructField(\"AREA_KM2\", IntegerType(), False),\n",
    "                    StructField(\"REGION_ID\", IntegerType(), True),\n",
    "                    StructField(\"SUB_REGION_ID\", IntegerType(), True),\n",
    "                    StructField(\"INTERMEDIATE_REGION_ID\", IntegerType(), True),\n",
    "                    StructField(\"ORGANIZATION_REGION_ID\", IntegerType(), True)\n",
    "                    ]\n",
    "                    )\n",
    " \n",
    "countries=spark.read.csv(path=countries_path, header=True, schema=countries_schema)"
   ]
  },
  {
   "cell_type": "code",
   "execution_count": 0,
   "metadata": {
    "application/vnd.databricks.v1+cell": {
     "cellMetadata": {
      "byteLimit": 2048000,
      "rowLimit": 10000
     },
     "inputWidgets": {},
     "nuid": "befc98d0-c25d-4fcf-b96e-a564bf8a129c",
     "showTitle": false,
     "title": ""
    }
   },
   "outputs": [
    {
     "output_type": "display_data",
     "data": {
      "text/html": [
       "<style scoped>\n",
       "  .ansiout {\n",
       "    display: block;\n",
       "    unicode-bidi: embed;\n",
       "    white-space: pre-wrap;\n",
       "    word-wrap: break-word;\n",
       "    word-break: break-all;\n",
       "    font-family: \"Source Code Pro\", \"Menlo\", monospace;;\n",
       "    font-size: 13px;\n",
       "    color: #555;\n",
       "    margin-left: 4px;\n",
       "    line-height: 19px;\n",
       "  }\n",
       "</style>\n",
       "<div class=\"ansiout\">Out[3]: [(&#39;COUNTRY_ID&#39;, &#39;int&#39;),\n",
       " (&#39;NAME&#39;, &#39;string&#39;),\n",
       " (&#39;NATIONALITY&#39;, &#39;string&#39;),\n",
       " (&#39;COUNTRY_CODE&#39;, &#39;string&#39;),\n",
       " (&#39;ISO_ALPHA2&#39;, &#39;string&#39;),\n",
       " (&#39;CAPITAL&#39;, &#39;string&#39;),\n",
       " (&#39;POPULATION&#39;, &#39;double&#39;),\n",
       " (&#39;AREA_KM2&#39;, &#39;int&#39;),\n",
       " (&#39;REGION_ID&#39;, &#39;int&#39;),\n",
       " (&#39;SUB_REGION_ID&#39;, &#39;int&#39;),\n",
       " (&#39;INTERMEDIATE_REGION_ID&#39;, &#39;int&#39;),\n",
       " (&#39;ORGANIZATION_REGION_ID&#39;, &#39;int&#39;)]</div>"
      ]
     },
     "metadata": {
      "application/vnd.databricks.v1+output": {
       "addedWidgets": {},
       "arguments": {},
       "data": "<div class=\"ansiout\">Out[3]: [(&#39;COUNTRY_ID&#39;, &#39;int&#39;),\n (&#39;NAME&#39;, &#39;string&#39;),\n (&#39;NATIONALITY&#39;, &#39;string&#39;),\n (&#39;COUNTRY_CODE&#39;, &#39;string&#39;),\n (&#39;ISO_ALPHA2&#39;, &#39;string&#39;),\n (&#39;CAPITAL&#39;, &#39;string&#39;),\n (&#39;POPULATION&#39;, &#39;double&#39;),\n (&#39;AREA_KM2&#39;, &#39;int&#39;),\n (&#39;REGION_ID&#39;, &#39;int&#39;),\n (&#39;SUB_REGION_ID&#39;, &#39;int&#39;),\n (&#39;INTERMEDIATE_REGION_ID&#39;, &#39;int&#39;),\n (&#39;ORGANIZATION_REGION_ID&#39;, &#39;int&#39;)]</div>",
       "datasetInfos": [],
       "metadata": {},
       "removedWidgets": [],
       "type": "html"
      }
     },
     "output_type": "display_data"
    }
   ],
   "source": [
    "# using .dtypes to view data types\n",
    "countries.dtypes"
   ]
  },
  {
   "cell_type": "code",
   "execution_count": 0,
   "metadata": {
    "application/vnd.databricks.v1+cell": {
     "cellMetadata": {
      "byteLimit": 2048000,
      "rowLimit": 10000
     },
     "inputWidgets": {},
     "nuid": "6db357b9-6a77-4ad5-ae32-a7f820777763",
     "showTitle": false,
     "title": ""
    }
   },
   "outputs": [
    {
     "output_type": "display_data",
     "data": {
      "text/html": [
       "<style scoped>\n",
       "  .ansiout {\n",
       "    display: block;\n",
       "    unicode-bidi: embed;\n",
       "    white-space: pre-wrap;\n",
       "    word-wrap: break-word;\n",
       "    word-break: break-all;\n",
       "    font-family: \"Source Code Pro\", \"Menlo\", monospace;;\n",
       "    font-size: 13px;\n",
       "    color: #555;\n",
       "    margin-left: 4px;\n",
       "    line-height: 19px;\n",
       "  }\n",
       "</style>\n",
       "<div class=\"ansiout\"></div>"
      ]
     },
     "metadata": {
      "application/vnd.databricks.v1+output": {
       "addedWidgets": {},
       "arguments": {},
       "data": "<div class=\"ansiout\"></div>",
       "datasetInfos": [],
       "metadata": {},
       "removedWidgets": [],
       "type": "html"
      }
     },
     "output_type": "display_data"
    }
   ],
   "source": [
    "# Reading the countries file into a new variable without specifying the schema \n",
    "countries_dt = spark.read.csv(path=countries_path, header=True)"
   ]
  },
  {
   "cell_type": "code",
   "execution_count": 0,
   "metadata": {
    "application/vnd.databricks.v1+cell": {
     "cellMetadata": {
      "byteLimit": 2048000,
      "rowLimit": 10000
     },
     "inputWidgets": {},
     "nuid": "a7f27bd7-a5b6-483c-9714-303575fa8f70",
     "showTitle": false,
     "title": ""
    }
   },
   "outputs": [
    {
     "output_type": "display_data",
     "data": {
      "text/html": [
       "<style scoped>\n",
       "  .ansiout {\n",
       "    display: block;\n",
       "    unicode-bidi: embed;\n",
       "    white-space: pre-wrap;\n",
       "    word-wrap: break-word;\n",
       "    word-break: break-all;\n",
       "    font-family: \"Source Code Pro\", \"Menlo\", monospace;;\n",
       "    font-size: 13px;\n",
       "    color: #555;\n",
       "    margin-left: 4px;\n",
       "    line-height: 19px;\n",
       "  }\n",
       "</style>\n",
       "<div class=\"ansiout\">Out[5]: [(&#39;COUNTRY_ID&#39;, &#39;string&#39;),\n",
       " (&#39;NAME&#39;, &#39;string&#39;),\n",
       " (&#39;NATIONALITY&#39;, &#39;string&#39;),\n",
       " (&#39;COUNTRY_CODE&#39;, &#39;string&#39;),\n",
       " (&#39;ISO_ALPHA2&#39;, &#39;string&#39;),\n",
       " (&#39;CAPITAL&#39;, &#39;string&#39;),\n",
       " (&#39;POPULATION&#39;, &#39;string&#39;),\n",
       " (&#39;AREA_KM2&#39;, &#39;string&#39;),\n",
       " (&#39;REGION_ID&#39;, &#39;string&#39;),\n",
       " (&#39;SUB_REGION_ID&#39;, &#39;string&#39;),\n",
       " (&#39;INTERMEDIATE_REGION_ID&#39;, &#39;string&#39;),\n",
       " (&#39;ORGANIZATION_REGION_ID&#39;, &#39;string&#39;)]</div>"
      ]
     },
     "metadata": {
      "application/vnd.databricks.v1+output": {
       "addedWidgets": {},
       "arguments": {},
       "data": "<div class=\"ansiout\">Out[5]: [(&#39;COUNTRY_ID&#39;, &#39;string&#39;),\n (&#39;NAME&#39;, &#39;string&#39;),\n (&#39;NATIONALITY&#39;, &#39;string&#39;),\n (&#39;COUNTRY_CODE&#39;, &#39;string&#39;),\n (&#39;ISO_ALPHA2&#39;, &#39;string&#39;),\n (&#39;CAPITAL&#39;, &#39;string&#39;),\n (&#39;POPULATION&#39;, &#39;string&#39;),\n (&#39;AREA_KM2&#39;, &#39;string&#39;),\n (&#39;REGION_ID&#39;, &#39;string&#39;),\n (&#39;SUB_REGION_ID&#39;, &#39;string&#39;),\n (&#39;INTERMEDIATE_REGION_ID&#39;, &#39;string&#39;),\n (&#39;ORGANIZATION_REGION_ID&#39;, &#39;string&#39;)]</div>",
       "datasetInfos": [],
       "metadata": {},
       "removedWidgets": [],
       "type": "html"
      }
     },
     "output_type": "display_data"
    }
   ],
   "source": [
    "# All data types are all string\n",
    "countries_dt.dtypes"
   ]
  },
  {
   "cell_type": "code",
   "execution_count": 0,
   "metadata": {
    "application/vnd.databricks.v1+cell": {
     "cellMetadata": {
      "byteLimit": 2048000,
      "rowLimit": 10000
     },
     "inputWidgets": {},
     "nuid": "2ddc9000-be13-45a4-a70a-4f9b33f2738c",
     "showTitle": false,
     "title": ""
    }
   },
   "outputs": [
    {
     "output_type": "display_data",
     "data": {
      "text/html": [
       "<style scoped>\n",
       "  .ansiout {\n",
       "    display: block;\n",
       "    unicode-bidi: embed;\n",
       "    white-space: pre-wrap;\n",
       "    word-wrap: break-word;\n",
       "    word-break: break-all;\n",
       "    font-family: \"Source Code Pro\", \"Menlo\", monospace;;\n",
       "    font-size: 13px;\n",
       "    color: #555;\n",
       "    margin-left: 4px;\n",
       "    line-height: 19px;\n",
       "  }\n",
       "</style>\n",
       "<div class=\"ansiout\">Out[6]: [(&#39;population&#39;, &#39;int&#39;)]</div>"
      ]
     },
     "metadata": {
      "application/vnd.databricks.v1+output": {
       "addedWidgets": {},
       "arguments": {},
       "data": "<div class=\"ansiout\">Out[6]: [(&#39;population&#39;, &#39;int&#39;)]</div>",
       "datasetInfos": [],
       "metadata": {},
       "removedWidgets": [],
       "type": "html"
      }
     },
     "output_type": "display_data"
    }
   ],
   "source": [
    "# Using the cast method to cast the population column as IntegerType(), IntegerType() has already been imported in the first cell when creating the schema\n",
    "countries_dt.select(countries_dt['population'].cast(IntegerType())).dtypes"
   ]
  },
  {
   "cell_type": "code",
   "execution_count": 0,
   "metadata": {
    "application/vnd.databricks.v1+cell": {
     "cellMetadata": {
      "byteLimit": 2048000,
      "rowLimit": 10000
     },
     "inputWidgets": {},
     "nuid": "ad3838fd-7728-477f-896a-edd37eacde6f",
     "showTitle": false,
     "title": ""
    }
   },
   "outputs": [
    {
     "output_type": "display_data",
     "data": {
      "text/html": [
       "<style scoped>\n",
       "  .ansiout {\n",
       "    display: block;\n",
       "    unicode-bidi: embed;\n",
       "    white-space: pre-wrap;\n",
       "    word-wrap: break-word;\n",
       "    word-break: break-all;\n",
       "    font-family: \"Source Code Pro\", \"Menlo\", monospace;;\n",
       "    font-size: 13px;\n",
       "    color: #555;\n",
       "    margin-left: 4px;\n",
       "    line-height: 19px;\n",
       "  }\n",
       "</style>\n",
       "<div class=\"ansiout\">Out[7]: [(&#39;population&#39;, &#39;string&#39;)]</div>"
      ]
     },
     "metadata": {
      "application/vnd.databricks.v1+output": {
       "addedWidgets": {},
       "arguments": {},
       "data": "<div class=\"ansiout\">Out[7]: [(&#39;population&#39;, &#39;string&#39;)]</div>",
       "datasetInfos": [],
       "metadata": {},
       "removedWidgets": [],
       "type": "html"
      }
     },
     "output_type": "display_data"
    }
   ],
   "source": [
    "# Using the cast method to cast the population column as StringType(), StringType() has already been imported in the first cell when creating the schema\n",
    "countries.select(countries['population'].cast(StringType())).dtypes"
   ]
  },
  {
   "cell_type": "markdown",
   "metadata": {
    "application/vnd.databricks.v1+cell": {
     "cellMetadata": {
      "byteLimit": 2048000,
      "rowLimit": 10000
     },
     "inputWidgets": {},
     "nuid": "b6d11e16-dfb5-4684-9ce5-e84d19cdb129",
     "showTitle": false,
     "title": ""
    }
   },
   "source": [
    "#### Math Functions\n",
    "* Math Functions: https://spark.apache.org/docs/latest/api/python/reference/pyspark.sql/functions.html#math-functions"
   ]
  },
  {
   "cell_type": "code",
   "execution_count": 0,
   "metadata": {
    "application/vnd.databricks.v1+cell": {
     "cellMetadata": {
      "byteLimit": 2048000,
      "rowLimit": 10000
     },
     "inputWidgets": {},
     "nuid": "a7c7a228-9894-47f3-8629-2f8de3d18b76",
     "showTitle": false,
     "title": ""
    }
   },
   "outputs": [
    {
     "output_type": "display_data",
     "data": {
      "text/html": [
       "<style scoped>\n",
       "  .table-result-container {\n",
       "    max-height: 300px;\n",
       "    overflow: auto;\n",
       "  }\n",
       "  table, th, td {\n",
       "    border: 1px solid black;\n",
       "    border-collapse: collapse;\n",
       "  }\n",
       "  th, td {\n",
       "    padding: 5px;\n",
       "  }\n",
       "  th {\n",
       "    text-align: left;\n",
       "  }\n",
       "</style><div class='table-result-container'><table class='table-result'><thead style='background-color: white'><tr><th>population_m</th></tr></thead><tbody><tr><td>38.041754</td></tr><tr><td>2.880917</td></tr><tr><td>43.053054</td></tr><tr><td>0.055312</td></tr><tr><td>0.077142</td></tr></tbody></table></div>"
      ]
     },
     "metadata": {
      "application/vnd.databricks.v1+output": {
       "addedWidgets": {},
       "aggData": [],
       "aggError": "",
       "aggOverflow": false,
       "aggSchema": [],
       "aggSeriesLimitReached": false,
       "aggType": "",
       "arguments": {},
       "columnCustomDisplayInfos": {},
       "data": [
        [
         38.041754
        ],
        [
         2.880917
        ],
        [
         43.053054
        ],
        [
         0.055312
        ],
        [
         0.077142
        ]
       ],
       "datasetInfos": [],
       "dbfsResultPath": null,
       "isJsonSchema": true,
       "metadata": {},
       "overflow": false,
       "plotOptions": {
        "customPlotOptions": {},
        "displayType": "table",
        "pivotAggregation": null,
        "pivotColumns": null,
        "xColumns": null,
        "yColumns": null
       },
       "removedWidgets": [],
       "schema": [
        {
         "metadata": "{}",
         "name": "population_m",
         "type": "\"double\""
        }
       ],
       "type": "table"
      }
     },
     "output_type": "display_data"
    },
    {
     "output_type": "display_data",
     "data": {
      "text/html": [
       "<style scoped>\n",
       "  .table-result-container {\n",
       "    max-height: 300px;\n",
       "    overflow: auto;\n",
       "  }\n",
       "  table, th, td {\n",
       "    border: 1px solid black;\n",
       "    border-collapse: collapse;\n",
       "  }\n",
       "  th, td {\n",
       "    padding: 5px;\n",
       "  }\n",
       "  th {\n",
       "    text-align: left;\n",
       "  }\n",
       "</style><div class='table-result-container'><table class='table-result'><thead style='background-color: white'><tr><th>population_m</th></tr></thead><tbody><tr><td>38.04</td></tr><tr><td>2.88</td></tr><tr><td>43.05</td></tr><tr><td>0.06</td></tr><tr><td>0.08</td></tr></tbody></table></div>"
      ]
     },
     "metadata": {
      "application/vnd.databricks.v1+output": {
       "addedWidgets": {},
       "aggData": [],
       "aggError": "",
       "aggOverflow": false,
       "aggSchema": [],
       "aggSeriesLimitReached": false,
       "aggType": "",
       "arguments": {},
       "columnCustomDisplayInfos": {},
       "data": [
        [
         38.04
        ],
        [
         2.88
        ],
        [
         43.05
        ],
        [
         0.06
        ],
        [
         0.08
        ]
       ],
       "datasetInfos": [],
       "dbfsResultPath": null,
       "isJsonSchema": true,
       "metadata": {},
       "overflow": false,
       "plotOptions": {
        "customPlotOptions": {},
        "displayType": "table",
        "pivotAggregation": null,
        "pivotColumns": null,
        "xColumns": null,
        "yColumns": null
       },
       "removedWidgets": [],
       "schema": [
        {
         "metadata": "{}",
         "name": "population_m",
         "type": "\"double\""
        }
       ],
       "type": "table"
      }
     },
     "output_type": "display_data"
    }
   ],
   "source": [
    "# Simple arithmetic to return the population in milions\n",
    "countries.select(countries['population']/1000000).withColumnRenamed('(population / 1000000)','population_m').limit(5).display()\n",
    "\n",
    "# Adding the column to a variable\n",
    "countries_2 = countries.select(countries['population']/1000000).withColumnRenamed('(population / 1000000)','population_m')\n",
    "\n",
    "# Using the round function to round to 2 decimal places\n",
    "from pyspark.sql.functions import round\n",
    "countries_2.select(round(countries_2['population_m'],2)).withColumnRenamed('round(population_m, 2)', 'population_m').limit(5).display()"
   ]
  },
  {
   "cell_type": "code",
   "execution_count": 0,
   "metadata": {
    "application/vnd.databricks.v1+cell": {
     "cellMetadata": {
      "byteLimit": 2048000,
      "rowLimit": 10000
     },
     "inputWidgets": {},
     "nuid": "6d260a14-9d89-4bae-9c87-4bad14f59f0e",
     "showTitle": false,
     "title": ""
    }
   },
   "outputs": [
    {
     "output_type": "display_data",
     "data": {
      "text/html": [
       "<style scoped>\n",
       "  .table-result-container {\n",
       "    max-height: 300px;\n",
       "    overflow: auto;\n",
       "  }\n",
       "  table, th, td {\n",
       "    border: 1px solid black;\n",
       "    border-collapse: collapse;\n",
       "  }\n",
       "  th, td {\n",
       "    padding: 5px;\n",
       "  }\n",
       "  th {\n",
       "    text-align: left;\n",
       "  }\n",
       "</style><div class='table-result-container'><table class='table-result'><thead style='background-color: white'><tr><th>COUNTRY_ID</th><th>NAME</th><th>NATIONALITY</th><th>COUNTRY_CODE</th><th>ISO_ALPHA2</th><th>CAPITAL</th><th>POPULATION</th><th>AREA_KM2</th><th>REGION_ID</th><th>SUB_REGION_ID</th><th>INTERMEDIATE_REGION_ID</th><th>ORGANIZATION_REGION_ID</th><th>population_m_r1</th></tr></thead><tbody><tr><td>1</td><td>Afghanistan</td><td>Afghan</td><td>AFG</td><td>AF</td><td>Kabul</td><td>3.8041754E7</td><td>652230</td><td>30</td><td>30</td><td>null</td><td>30</td><td>38.0</td></tr><tr><td>2</td><td>Albania</td><td>Albanian</td><td>ALB</td><td>AL</td><td>Tirana</td><td>2880917.0</td><td>28748</td><td>20</td><td>70</td><td>null</td><td>20</td><td>2.9</td></tr><tr><td>3</td><td>Algeria</td><td>Algerian</td><td>DZA</td><td>DZ</td><td>Algiers</td><td>4.3053054E7</td><td>2381741</td><td>50</td><td>40</td><td>null</td><td>20</td><td>43.1</td></tr><tr><td>4</td><td>American Samoa</td><td>American Samoan</td><td>ASM</td><td>AS</td><td>Pago Pago</td><td>55312.0</td><td>199</td><td>40</td><td>20</td><td>null</td><td>30</td><td>0.1</td></tr><tr><td>5</td><td>Andorra</td><td>Andorran</td><td>AND</td><td>AD</td><td>Andorra la Vella</td><td>77142.0</td><td>468</td><td>20</td><td>70</td><td>null</td><td>20</td><td>0.1</td></tr></tbody></table></div>"
      ]
     },
     "metadata": {
      "application/vnd.databricks.v1+output": {
       "addedWidgets": {},
       "aggData": [],
       "aggError": "",
       "aggOverflow": false,
       "aggSchema": [],
       "aggSeriesLimitReached": false,
       "aggType": "",
       "arguments": {},
       "columnCustomDisplayInfos": {},
       "data": [
        [
         1,
         "Afghanistan",
         "Afghan",
         "AFG",
         "AF",
         "Kabul",
         3.8041754E7,
         652230,
         30,
         30,
         null,
         30,
         38.0
        ],
        [
         2,
         "Albania",
         "Albanian",
         "ALB",
         "AL",
         "Tirana",
         2880917.0,
         28748,
         20,
         70,
         null,
         20,
         2.9
        ],
        [
         3,
         "Algeria",
         "Algerian",
         "DZA",
         "DZ",
         "Algiers",
         4.3053054E7,
         2381741,
         50,
         40,
         null,
         20,
         43.1
        ],
        [
         4,
         "American Samoa",
         "American Samoan",
         "ASM",
         "AS",
         "Pago Pago",
         55312.0,
         199,
         40,
         20,
         null,
         30,
         0.1
        ],
        [
         5,
         "Andorra",
         "Andorran",
         "AND",
         "AD",
         "Andorra la Vella",
         77142.0,
         468,
         20,
         70,
         null,
         20,
         0.1
        ]
       ],
       "datasetInfos": [],
       "dbfsResultPath": null,
       "isJsonSchema": true,
       "metadata": {},
       "overflow": false,
       "plotOptions": {
        "customPlotOptions": {},
        "displayType": "table",
        "pivotAggregation": null,
        "pivotColumns": null,
        "xColumns": null,
        "yColumns": null
       },
       "removedWidgets": [],
       "schema": [
        {
         "metadata": "{}",
         "name": "COUNTRY_ID",
         "type": "\"integer\""
        },
        {
         "metadata": "{}",
         "name": "NAME",
         "type": "\"string\""
        },
        {
         "metadata": "{}",
         "name": "NATIONALITY",
         "type": "\"string\""
        },
        {
         "metadata": "{}",
         "name": "COUNTRY_CODE",
         "type": "\"string\""
        },
        {
         "metadata": "{}",
         "name": "ISO_ALPHA2",
         "type": "\"string\""
        },
        {
         "metadata": "{}",
         "name": "CAPITAL",
         "type": "\"string\""
        },
        {
         "metadata": "{}",
         "name": "POPULATION",
         "type": "\"double\""
        },
        {
         "metadata": "{}",
         "name": "AREA_KM2",
         "type": "\"integer\""
        },
        {
         "metadata": "{}",
         "name": "REGION_ID",
         "type": "\"integer\""
        },
        {
         "metadata": "{}",
         "name": "SUB_REGION_ID",
         "type": "\"integer\""
        },
        {
         "metadata": "{}",
         "name": "INTERMEDIATE_REGION_ID",
         "type": "\"integer\""
        },
        {
         "metadata": "{}",
         "name": "ORGANIZATION_REGION_ID",
         "type": "\"integer\""
        },
        {
         "metadata": "{}",
         "name": "population_m_r1",
         "type": "\"double\""
        }
       ],
       "type": "table"
      }
     },
     "output_type": "display_data"
    }
   ],
   "source": [
    "# create new column population_m_r1 rounded to 1 decimal in countries df\n",
    "countries.withColumn('population_m_r1', round(countries['population']/1000000, 1)).limit(5).display()"
   ]
  }
 ],
 "metadata": {
  "application/vnd.databricks.v1+notebook": {
   "dashboards": [],
   "language": "python",
   "notebookMetadata": {
    "pythonIndentUnit": 4
   },
   "notebookName": "Types, math",
   "notebookOrigID": 838233613152840,
   "widgets": {}
  }
 },
 "nbformat": 4,
 "nbformat_minor": 0
}
